{
 "cells": [
  {
   "cell_type": "markdown",
   "metadata": {
    "id": "_heZlLz5VucO"
   },
   "source": [
    "**Note: Data pre-processing**  \n",
    "Procedures:  \n",
    "&nbsp; 1): Read the dataset  \n",
    "&nbsp; 2): Transform the tabular data into images  \n",
    "&nbsp; 3): Display the transformed images  \n",
    "&nbsp; 4): Split the training and test set  "
   ]
  },
  {
   "cell_type": "code",
   "execution_count": null,
   "metadata": {
    "colab": {
     "base_uri": "https://localhost:8080/"
    },
    "id": "9-H7ONwMVucR",
    "outputId": "c0475789-232c-4e7c-b977-45ea6cad2d38"
   },
   "outputs": [],
   "source": [
    "# !pip install opencv-python"
   ]
  },
  {
   "cell_type": "markdown",
   "metadata": {
    "id": "IeS2rkdMVucS"
   },
   "source": [
    "## Import libraries"
   ]
  },
  {
   "cell_type": "code",
   "execution_count": 22,
   "metadata": {
    "id": "76xOtoViVucT"
   },
   "outputs": [],
   "source": [
    "import numpy as np\n",
    "import pandas as pd\n",
    "import os\n",
    "import cv2\n",
    "import math\n",
    "import random\n",
    "import matplotlib.pyplot as plt\n",
    "import shutil\n",
    "from sklearn.preprocessing import QuantileTransformer\n",
    "from PIL import Image\n",
    "import warnings\n",
    "warnings.filterwarnings(\"ignore\")\n",
    "\n",
    "from keras.layers import LSTM, Dense, Dropout\n",
    "from keras.models import Sequential\n",
    "from keras.preprocessing.image import ImageDataGenerator\n",
    "from keras.utils import np_utils\n",
    "from keras.layers import Reshape\n",
    "from keras.utils import to_categorical\n",
    "from keras.layers import Embedding"
   ]
  },
  {
   "cell_type": "code",
   "execution_count": 23,
   "metadata": {
    "id": "d-or3dRDVucU"
   },
   "outputs": [],
   "source": [
    "#Read dataset\n",
    "df=pd.read_csv('1_percentage_of_each_dataset.csv')"
   ]
  },
  {
   "cell_type": "code",
   "execution_count": null,
   "metadata": {
    "colab": {
     "base_uri": "https://localhost:8080/",
     "height": 424
    },
    "id": "8-HabfGhVucU",
    "outputId": "89b281cb-0a24-4ddb-d753-616b03c44039",
    "scrolled": false
   },
   "outputs": [],
   "source": [
    "# subset = df.sample(n=100)"
   ]
  },
  {
   "cell_type": "code",
   "execution_count": 24,
   "metadata": {},
   "outputs": [
    {
     "data": {
      "text/html": [
       "<div>\n",
       "<style scoped>\n",
       "    .dataframe tbody tr th:only-of-type {\n",
       "        vertical-align: middle;\n",
       "    }\n",
       "\n",
       "    .dataframe tbody tr th {\n",
       "        vertical-align: top;\n",
       "    }\n",
       "\n",
       "    .dataframe thead th {\n",
       "        text-align: right;\n",
       "    }\n",
       "</style>\n",
       "<table border=\"1\" class=\"dataframe\">\n",
       "  <thead>\n",
       "    <tr style=\"text-align: right;\">\n",
       "      <th></th>\n",
       "      <th>CAN ID</th>\n",
       "      <th>DATA[0]</th>\n",
       "      <th>DATA[1]</th>\n",
       "      <th>DATA[2]</th>\n",
       "      <th>DATA[3]</th>\n",
       "      <th>DATA[4]</th>\n",
       "      <th>DATA[5]</th>\n",
       "      <th>DATA[6]</th>\n",
       "      <th>DATA[7]</th>\n",
       "      <th>Label</th>\n",
       "    </tr>\n",
       "  </thead>\n",
       "  <tbody>\n",
       "    <tr>\n",
       "      <th>0</th>\n",
       "      <td>0</td>\n",
       "      <td>0</td>\n",
       "      <td>0</td>\n",
       "      <td>0</td>\n",
       "      <td>0</td>\n",
       "      <td>0</td>\n",
       "      <td>0</td>\n",
       "      <td>0</td>\n",
       "      <td>0</td>\n",
       "      <td>Dos</td>\n",
       "    </tr>\n",
       "    <tr>\n",
       "      <th>1</th>\n",
       "      <td>305</td>\n",
       "      <td>27</td>\n",
       "      <td>128</td>\n",
       "      <td>0</td>\n",
       "      <td>0</td>\n",
       "      <td>63</td>\n",
       "      <td>127</td>\n",
       "      <td>14</td>\n",
       "      <td>166</td>\n",
       "      <td>R</td>\n",
       "    </tr>\n",
       "    <tr>\n",
       "      <th>2</th>\n",
       "      <td>161</td>\n",
       "      <td>128</td>\n",
       "      <td>137</td>\n",
       "      <td>0</td>\n",
       "      <td>0</td>\n",
       "      <td>36</td>\n",
       "      <td>0</td>\n",
       "      <td>0</td>\n",
       "      <td>0</td>\n",
       "      <td>R</td>\n",
       "    </tr>\n",
       "    <tr>\n",
       "      <th>3</th>\n",
       "      <td>608</td>\n",
       "      <td>24</td>\n",
       "      <td>33</td>\n",
       "      <td>34</td>\n",
       "      <td>48</td>\n",
       "      <td>8</td>\n",
       "      <td>143</td>\n",
       "      <td>112</td>\n",
       "      <td>5</td>\n",
       "      <td>R</td>\n",
       "    </tr>\n",
       "    <tr>\n",
       "      <th>4</th>\n",
       "      <td>704</td>\n",
       "      <td>20</td>\n",
       "      <td>0</td>\n",
       "      <td>0</td>\n",
       "      <td>0</td>\n",
       "      <td>0</td>\n",
       "      <td>0</td>\n",
       "      <td>0</td>\n",
       "      <td>0</td>\n",
       "      <td>R</td>\n",
       "    </tr>\n",
       "    <tr>\n",
       "      <th>...</th>\n",
       "      <td>...</td>\n",
       "      <td>...</td>\n",
       "      <td>...</td>\n",
       "      <td>...</td>\n",
       "      <td>...</td>\n",
       "      <td>...</td>\n",
       "      <td>...</td>\n",
       "      <td>...</td>\n",
       "      <td>...</td>\n",
       "      <td>...</td>\n",
       "    </tr>\n",
       "    <tr>\n",
       "      <th>163705</th>\n",
       "      <td>399</td>\n",
       "      <td>254</td>\n",
       "      <td>78</td>\n",
       "      <td>0</td>\n",
       "      <td>0</td>\n",
       "      <td>0</td>\n",
       "      <td>60</td>\n",
       "      <td>0</td>\n",
       "      <td>0</td>\n",
       "      <td>R</td>\n",
       "    </tr>\n",
       "    <tr>\n",
       "      <th>163706</th>\n",
       "      <td>497</td>\n",
       "      <td>8</td>\n",
       "      <td>0</td>\n",
       "      <td>0</td>\n",
       "      <td>0</td>\n",
       "      <td>0</td>\n",
       "      <td>0</td>\n",
       "      <td>0</td>\n",
       "      <td>0</td>\n",
       "      <td>R</td>\n",
       "    </tr>\n",
       "    <tr>\n",
       "      <th>163707</th>\n",
       "      <td>399</td>\n",
       "      <td>254</td>\n",
       "      <td>73</td>\n",
       "      <td>0</td>\n",
       "      <td>0</td>\n",
       "      <td>0</td>\n",
       "      <td>60</td>\n",
       "      <td>0</td>\n",
       "      <td>0</td>\n",
       "      <td>R</td>\n",
       "    </tr>\n",
       "    <tr>\n",
       "      <th>163708</th>\n",
       "      <td>880</td>\n",
       "      <td>0</td>\n",
       "      <td>32</td>\n",
       "      <td>0</td>\n",
       "      <td>0</td>\n",
       "      <td>0</td>\n",
       "      <td>0</td>\n",
       "      <td>0</td>\n",
       "      <td>0</td>\n",
       "      <td>R</td>\n",
       "    </tr>\n",
       "    <tr>\n",
       "      <th>163709</th>\n",
       "      <td>848</td>\n",
       "      <td>5</td>\n",
       "      <td>32</td>\n",
       "      <td>100</td>\n",
       "      <td>104</td>\n",
       "      <td>117</td>\n",
       "      <td>0</td>\n",
       "      <td>0</td>\n",
       "      <td>92</td>\n",
       "      <td>R</td>\n",
       "    </tr>\n",
       "  </tbody>\n",
       "</table>\n",
       "<p>163710 rows × 10 columns</p>\n",
       "</div>"
      ],
      "text/plain": [
       "        CAN ID  DATA[0]  DATA[1]  DATA[2]  DATA[3]  DATA[4]  DATA[5]  DATA[6]  \\\n",
       "0            0        0        0        0        0        0        0        0   \n",
       "1          305       27      128        0        0       63      127       14   \n",
       "2          161      128      137        0        0       36        0        0   \n",
       "3          608       24       33       34       48        8      143      112   \n",
       "4          704       20        0        0        0        0        0        0   \n",
       "...        ...      ...      ...      ...      ...      ...      ...      ...   \n",
       "163705     399      254       78        0        0        0       60        0   \n",
       "163706     497        8        0        0        0        0        0        0   \n",
       "163707     399      254       73        0        0        0       60        0   \n",
       "163708     880        0       32        0        0        0        0        0   \n",
       "163709     848        5       32      100      104      117        0        0   \n",
       "\n",
       "        DATA[7] Label  \n",
       "0             0   Dos  \n",
       "1           166     R  \n",
       "2             0     R  \n",
       "3             5     R  \n",
       "4             0     R  \n",
       "...         ...   ...  \n",
       "163705        0     R  \n",
       "163706        0     R  \n",
       "163707        0     R  \n",
       "163708        0     R  \n",
       "163709       92     R  \n",
       "\n",
       "[163710 rows x 10 columns]"
      ]
     },
     "execution_count": 24,
     "metadata": {},
     "output_type": "execute_result"
    }
   ],
   "source": [
    "df"
   ]
  },
  {
   "cell_type": "code",
   "execution_count": 25,
   "metadata": {},
   "outputs": [],
   "source": [
    "df = df.drop('CAN ID', axis=1)\n"
   ]
  },
  {
   "cell_type": "code",
   "execution_count": 19,
   "metadata": {},
   "outputs": [],
   "source": []
  },
  {
   "cell_type": "code",
   "execution_count": 26,
   "metadata": {},
   "outputs": [
    {
     "data": {
      "text/html": [
       "<div>\n",
       "<style scoped>\n",
       "    .dataframe tbody tr th:only-of-type {\n",
       "        vertical-align: middle;\n",
       "    }\n",
       "\n",
       "    .dataframe tbody tr th {\n",
       "        vertical-align: top;\n",
       "    }\n",
       "\n",
       "    .dataframe thead th {\n",
       "        text-align: right;\n",
       "    }\n",
       "</style>\n",
       "<table border=\"1\" class=\"dataframe\">\n",
       "  <thead>\n",
       "    <tr style=\"text-align: right;\">\n",
       "      <th></th>\n",
       "      <th>DATA[0]</th>\n",
       "      <th>DATA[1]</th>\n",
       "      <th>DATA[2]</th>\n",
       "      <th>DATA[3]</th>\n",
       "      <th>DATA[4]</th>\n",
       "      <th>DATA[5]</th>\n",
       "      <th>DATA[6]</th>\n",
       "      <th>DATA[7]</th>\n",
       "      <th>Label</th>\n",
       "    </tr>\n",
       "  </thead>\n",
       "  <tbody>\n",
       "    <tr>\n",
       "      <th>0</th>\n",
       "      <td>0</td>\n",
       "      <td>0</td>\n",
       "      <td>0</td>\n",
       "      <td>0</td>\n",
       "      <td>0</td>\n",
       "      <td>0</td>\n",
       "      <td>0</td>\n",
       "      <td>0</td>\n",
       "      <td>Dos</td>\n",
       "    </tr>\n",
       "    <tr>\n",
       "      <th>1</th>\n",
       "      <td>27</td>\n",
       "      <td>128</td>\n",
       "      <td>0</td>\n",
       "      <td>0</td>\n",
       "      <td>63</td>\n",
       "      <td>127</td>\n",
       "      <td>14</td>\n",
       "      <td>166</td>\n",
       "      <td>R</td>\n",
       "    </tr>\n",
       "    <tr>\n",
       "      <th>2</th>\n",
       "      <td>128</td>\n",
       "      <td>137</td>\n",
       "      <td>0</td>\n",
       "      <td>0</td>\n",
       "      <td>36</td>\n",
       "      <td>0</td>\n",
       "      <td>0</td>\n",
       "      <td>0</td>\n",
       "      <td>R</td>\n",
       "    </tr>\n",
       "    <tr>\n",
       "      <th>3</th>\n",
       "      <td>24</td>\n",
       "      <td>33</td>\n",
       "      <td>34</td>\n",
       "      <td>48</td>\n",
       "      <td>8</td>\n",
       "      <td>143</td>\n",
       "      <td>112</td>\n",
       "      <td>5</td>\n",
       "      <td>R</td>\n",
       "    </tr>\n",
       "    <tr>\n",
       "      <th>4</th>\n",
       "      <td>20</td>\n",
       "      <td>0</td>\n",
       "      <td>0</td>\n",
       "      <td>0</td>\n",
       "      <td>0</td>\n",
       "      <td>0</td>\n",
       "      <td>0</td>\n",
       "      <td>0</td>\n",
       "      <td>R</td>\n",
       "    </tr>\n",
       "    <tr>\n",
       "      <th>...</th>\n",
       "      <td>...</td>\n",
       "      <td>...</td>\n",
       "      <td>...</td>\n",
       "      <td>...</td>\n",
       "      <td>...</td>\n",
       "      <td>...</td>\n",
       "      <td>...</td>\n",
       "      <td>...</td>\n",
       "      <td>...</td>\n",
       "    </tr>\n",
       "    <tr>\n",
       "      <th>163705</th>\n",
       "      <td>254</td>\n",
       "      <td>78</td>\n",
       "      <td>0</td>\n",
       "      <td>0</td>\n",
       "      <td>0</td>\n",
       "      <td>60</td>\n",
       "      <td>0</td>\n",
       "      <td>0</td>\n",
       "      <td>R</td>\n",
       "    </tr>\n",
       "    <tr>\n",
       "      <th>163706</th>\n",
       "      <td>8</td>\n",
       "      <td>0</td>\n",
       "      <td>0</td>\n",
       "      <td>0</td>\n",
       "      <td>0</td>\n",
       "      <td>0</td>\n",
       "      <td>0</td>\n",
       "      <td>0</td>\n",
       "      <td>R</td>\n",
       "    </tr>\n",
       "    <tr>\n",
       "      <th>163707</th>\n",
       "      <td>254</td>\n",
       "      <td>73</td>\n",
       "      <td>0</td>\n",
       "      <td>0</td>\n",
       "      <td>0</td>\n",
       "      <td>60</td>\n",
       "      <td>0</td>\n",
       "      <td>0</td>\n",
       "      <td>R</td>\n",
       "    </tr>\n",
       "    <tr>\n",
       "      <th>163708</th>\n",
       "      <td>0</td>\n",
       "      <td>32</td>\n",
       "      <td>0</td>\n",
       "      <td>0</td>\n",
       "      <td>0</td>\n",
       "      <td>0</td>\n",
       "      <td>0</td>\n",
       "      <td>0</td>\n",
       "      <td>R</td>\n",
       "    </tr>\n",
       "    <tr>\n",
       "      <th>163709</th>\n",
       "      <td>5</td>\n",
       "      <td>32</td>\n",
       "      <td>100</td>\n",
       "      <td>104</td>\n",
       "      <td>117</td>\n",
       "      <td>0</td>\n",
       "      <td>0</td>\n",
       "      <td>92</td>\n",
       "      <td>R</td>\n",
       "    </tr>\n",
       "  </tbody>\n",
       "</table>\n",
       "<p>163710 rows × 9 columns</p>\n",
       "</div>"
      ],
      "text/plain": [
       "        DATA[0]  DATA[1]  DATA[2]  DATA[3]  DATA[4]  DATA[5]  DATA[6]  \\\n",
       "0             0        0        0        0        0        0        0   \n",
       "1            27      128        0        0       63      127       14   \n",
       "2           128      137        0        0       36        0        0   \n",
       "3            24       33       34       48        8      143      112   \n",
       "4            20        0        0        0        0        0        0   \n",
       "...         ...      ...      ...      ...      ...      ...      ...   \n",
       "163705      254       78        0        0        0       60        0   \n",
       "163706        8        0        0        0        0        0        0   \n",
       "163707      254       73        0        0        0       60        0   \n",
       "163708        0       32        0        0        0        0        0   \n",
       "163709        5       32      100      104      117        0        0   \n",
       "\n",
       "        DATA[7] Label  \n",
       "0             0   Dos  \n",
       "1           166     R  \n",
       "2             0     R  \n",
       "3             5     R  \n",
       "4             0     R  \n",
       "...         ...   ...  \n",
       "163705        0     R  \n",
       "163706        0     R  \n",
       "163707        0     R  \n",
       "163708        0     R  \n",
       "163709       92     R  \n",
       "\n",
       "[163710 rows x 9 columns]"
      ]
     },
     "execution_count": 26,
     "metadata": {},
     "output_type": "execute_result"
    }
   ],
   "source": [
    "df"
   ]
  },
  {
   "cell_type": "code",
   "execution_count": 27,
   "metadata": {
    "colab": {
     "base_uri": "https://localhost:8080/"
    },
    "id": "d2rJ4VksVucV",
    "outputId": "284654b2-b0ed-44ec-8293-6215b8591e27"
   },
   "outputs": [
    {
     "data": {
      "text/plain": [
       "R        140231\n",
       "RPM        6584\n",
       "gear       6017\n",
       "Dos        5900\n",
       "Fuzzy      4978\n",
       "Name: Label, dtype: int64"
      ]
     },
     "execution_count": 27,
     "metadata": {},
     "output_type": "execute_result"
    }
   ],
   "source": [
    "# The labels of the dataset. \"R\" indicates normal patterns, and there are four types of attack (DoS, fuzzy. gear spoofing, and RPM spoofing zttacks)\n",
    "df.Label.value_counts()"
   ]
  },
  {
   "cell_type": "markdown",
   "metadata": {
    "collapsed": true,
    "id": "Spya_5QqVucV"
   },
   "source": [
    "## Data Transformation\n",
    "Convert tabular data to images\n",
    "Procedures:\n",
    "1. Use quantile transform to transform the original data samples into the scale of [0,255], representing pixel values\n",
    "2. Generate images for each category (Normal, DoS, Fuzzy, Gear, RPM), each image consists of 27 data samples with 9 features. Thus, the size of each image is 9*9*3, length 9, width 9, and 3 color channels (RGB)."
   ]
  },
  {
   "cell_type": "code",
   "execution_count": 28,
   "metadata": {
    "id": "J_sHg8-dVucW"
   },
   "outputs": [],
   "source": [
    "# Transform all features into the scale of [0,1]\n",
    "numeric_features = df.dtypes[df.dtypes != 'object'].index\n",
    "scaler = QuantileTransformer() \n",
    "df[numeric_features] = scaler.fit_transform(df[numeric_features])"
   ]
  },
  {
   "cell_type": "code",
   "execution_count": 29,
   "metadata": {
    "id": "Kv1NmiKaVucW"
   },
   "outputs": [],
   "source": [
    "# Multiply the feature values by 255 to transform them into the scale of [0,255]\n",
    "df[numeric_features] = df[numeric_features].apply(\n",
    "    lambda x: (x*255))"
   ]
  },
  {
   "cell_type": "code",
   "execution_count": null,
   "metadata": {
    "id": "CNEsv7yvVucW"
   },
   "outputs": [],
   "source": [
    "# df.describe()"
   ]
  },
  {
   "cell_type": "markdown",
   "metadata": {
    "collapsed": true,
    "id": "oODqvjEXVucW"
   },
   "source": [
    "All features are in the same scale of [0,255]"
   ]
  },
  {
   "cell_type": "markdown",
   "metadata": {
    "id": "b6p8x6G8VucX"
   },
   "source": [
    "### Generate images for each class"
   ]
  },
  {
   "cell_type": "code",
   "execution_count": 30,
   "metadata": {
    "id": "ibx9JRVUVucX"
   },
   "outputs": [],
   "source": [
    "# df0=df[df['Label']=='R'].drop(['Label'],axis=1)\n",
    "df1=df[df['Label']=='RPM'].drop(['Label'],axis=1)\n",
    "df2=df[df['Label']=='gear'].drop(['Label'],axis=1)\n",
    "df3=df[df['Label']=='Dos'].drop(['Label'],axis=1)\n",
    "df4=df[df['Label']=='Fuzzy'].drop(['Label'],axis=1)"
   ]
  },
  {
   "cell_type": "code",
   "execution_count": 11,
   "metadata": {},
   "outputs": [],
   "source": []
  },
  {
   "cell_type": "code",
   "execution_count": null,
   "metadata": {},
   "outputs": [],
   "source": []
  },
  {
   "cell_type": "code",
   "execution_count": null,
   "metadata": {
    "colab": {
     "base_uri": "https://localhost:8080/",
     "height": 356
    },
    "id": "2WP1A3WDVucX",
    "outputId": "ead0f0e8-94d4-46ae-d54a-4fcdb050331b"
   },
   "outputs": [],
   "source": [
    "# # Generate 9*9 color images for class 0 (Normal)\n",
    "# # Change the numbers 9 to the number of features n in your dataset if you use a different dataset, reshape(n,n,3)\n",
    "# count=0\n",
    "# ims = []\n",
    "\n",
    "# image_path = \"train/0/\"\n",
    "# os.makedirs(image_path)\n",
    "\n",
    "# for i in range(0, len(df0)):  \n",
    "#     count=count+1\n",
    "#     if count<=27: \n",
    "#         im=df0.iloc[i].values\n",
    "#         ims=np.append(ims,im)\n",
    "#     else:\n",
    "#         ims=np.array(ims).reshape(9,9,3)\n",
    "#         array = np.array(ims, dtype=np.uint8)\n",
    "#         new_image = Image.fromarray(array)\n",
    "#         new_image.save(image_path+str(i)+'.png')\n",
    "#         count=0\n",
    "#         ims = []"
   ]
  },
  {
   "cell_type": "code",
   "execution_count": 32,
   "metadata": {
    "id": "Z6yzxnCRVucX"
   },
   "outputs": [],
   "source": [
    "# Generate 9*9 color images for class 1 (RPM spoofing)\n",
    "count=0\n",
    "ims = []\n",
    "\n",
    "image_path = \"train/0/\"\n",
    "os.makedirs(image_path)\n",
    "\n",
    "for i in range(0, len(df1)):  \n",
    "    count=count+1\n",
    "    if count<=24: \n",
    "        im=df1.iloc[i].values\n",
    "        ims=np.append(ims,im)\n",
    "    else:\n",
    "        ims=np.array(ims).reshape(8,8,3)\n",
    "        array = np.array(ims, dtype=np.uint8)\n",
    "        new_image = Image.fromarray(array)\n",
    "        new_image.save(image_path+str(i)+'.png')\n",
    "        count=0\n",
    "        ims = []"
   ]
  },
  {
   "cell_type": "code",
   "execution_count": 33,
   "metadata": {
    "id": "rgjgMSQuVucY"
   },
   "outputs": [],
   "source": [
    "# Generate 9*9 color images for class 2 (Gear spoofing)\n",
    "count=0\n",
    "ims = []\n",
    "\n",
    "image_path = \"train/1/\"\n",
    "os.makedirs(image_path)\n",
    "\n",
    "for i in range(0, len(df2)):  \n",
    "    count=count+1\n",
    "    if count<=24: \n",
    "        im=df2.iloc[i].values\n",
    "        ims=np.append(ims,im)\n",
    "    else:\n",
    "        ims=np.array(ims).reshape(8,8,3)\n",
    "        array = np.array(ims, dtype=np.uint8)\n",
    "        new_image = Image.fromarray(array)\n",
    "        new_image.save(image_path+str(i)+'.png')\n",
    "        count=0\n",
    "        ims = []"
   ]
  },
  {
   "cell_type": "code",
   "execution_count": 34,
   "metadata": {
    "id": "FaXhdUThVucY"
   },
   "outputs": [],
   "source": [
    "# Generate 9*9 color images for class 3 (DoS attack)\n",
    "count=0\n",
    "ims = []\n",
    "\n",
    "image_path = \"train/2/\"\n",
    "os.makedirs(image_path)\n",
    "\n",
    "\n",
    "for i in range(0, len(df3)):  \n",
    "    count=count+1\n",
    "    if count<=24: \n",
    "        im=df3.iloc[i].values\n",
    "        ims=np.append(ims,im)\n",
    "    else:\n",
    "        ims=np.array(ims).reshape(8,8,3)\n",
    "        array = np.array(ims, dtype=np.uint8)\n",
    "        new_image = Image.fromarray(array)\n",
    "        new_image.save(image_path+str(i)+'.png')\n",
    "        count=0\n",
    "        ims = []"
   ]
  },
  {
   "cell_type": "code",
   "execution_count": 35,
   "metadata": {
    "id": "OTTJNLWSVucY"
   },
   "outputs": [],
   "source": [
    "# Generate 9*9 color images for class 4 (Fuzzy attack)\n",
    "count=0\n",
    "ims = []\n",
    "\n",
    "image_path = \"train/3/\"\n",
    "os.makedirs(image_path)\n",
    "\n",
    "\n",
    "for i in range(0, len(df4)):  \n",
    "    count=count+1\n",
    "    if count<=24: \n",
    "        im=df4.iloc[i].values\n",
    "        ims=np.append(ims,im)\n",
    "    else:\n",
    "        ims=np.array(ims).reshape(8,8,3)\n",
    "        array = np.array(ims, dtype=np.uint8)\n",
    "        new_image = Image.fromarray(array)\n",
    "        new_image.save(image_path+str(i)+'.png')\n",
    "        count=0\n",
    "        ims = []"
   ]
  },
  {
   "cell_type": "markdown",
   "metadata": {
    "id": "13I8B7PzVucY"
   },
   "source": [
    "### Display samples for each category"
   ]
  },
  {
   "cell_type": "code",
   "execution_count": 37,
   "metadata": {
    "id": "IGmQGvMyVucZ"
   },
   "outputs": [
    {
     "data": {
      "image/png": "[encoded data removed]",
      "text/plain": [
       "<Figure size 720x720 with 4 Axes>"
      ]
     },
     "metadata": {
      "needs_background": "light"
     },
     "output_type": "display_data"
    }
   ],
   "source": [
    "# Read the images for each category, the file name may vary (27.png, 83.png...)\n",
    "img1 = Image.open('./train/0/24.png')\n",
    "img2 = Image.open('./train/1/24.png')\n",
    "img3 = Image.open('./train/2/24.png')\n",
    "img4 = Image.open('./train/3/24.png')\n",
    "# img5 = Image.open('./train/4/27.png')\n",
    "\n",
    "plt.figure(figsize=(10, 10)) \n",
    "plt.subplot(1,5,1)\n",
    "plt.imshow(img1)\n",
    "plt.title(\"RPM Spoofing\")\n",
    "plt.subplot(1,5,2)\n",
    "plt.imshow(img2)\n",
    "plt.title(\"Gear Spoofing\")\n",
    "plt.subplot(1,5,3)\n",
    "plt.imshow(img3)\n",
    "plt.title(\"DoS Attack\")\n",
    "plt.subplot(1,5,4)\n",
    "plt.imshow(img4)\n",
    "plt.title(\"Fuzzy Attack\")\n",
    "# plt.subplot(1,5,5)\n",
    "# plt.imshow(img5)\n",
    "# plt.title(\"Fuzzy Attack\")\n",
    "plt.show()  # display it"
   ]
  },
  {
   "cell_type": "markdown",
   "metadata": {
    "id": "QXAfI4FFVucZ"
   },
   "source": [
    "## Split the training and test set "
   ]
  },
  {
   "cell_type": "code",
   "execution_count": 38,
   "metadata": {
    "colab": {
     "base_uri": "https://localhost:8080/"
    },
    "id": "oiIIn1ZOVucZ",
    "outputId": "f6ff6889-c645-49f8-ccbf-2142f69a99ef"
   },
   "outputs": [
    {
     "name": "stdout",
     "output_type": "stream",
     "text": [
      "938\n"
     ]
    }
   ],
   "source": [
    "# Create folders to store images\n",
    "Train_Dir='./train/'\n",
    "Val_Dir='./test/'\n",
    "allimgs=[]\n",
    "for subdir in os.listdir(Train_Dir):\n",
    "    for filename in os.listdir(os.path.join(Train_Dir,subdir)):\n",
    "        filepath=os.path.join(Train_Dir,subdir,filename)\n",
    "        allimgs.append(filepath)\n",
    "print(len(allimgs)) # Print the total number of images"
   ]
  },
  {
   "cell_type": "code",
   "execution_count": 39,
   "metadata": {
    "id": "hQRNhRXUVucZ"
   },
   "outputs": [],
   "source": [
    "#split a test set from the dataset, train/test size = 80%/20%\n",
    "Numbers=len(allimgs)//5 \t#size of test set (20%)\n",
    "\n",
    "def mymovefile(srcfile,dstfile):\n",
    "    if not os.path.isfile(srcfile):\n",
    "#         print (\"%s not exist!\"%(srcfile))\n",
    "        pass\n",
    "    else:\n",
    "        fpath,fname=os.path.split(dstfile)    \n",
    "        if not os.path.exists(fpath):\n",
    "            os.makedirs(fpath)               \n",
    "        shutil.move(srcfile,dstfile)          \n",
    "        #print (\"move %s -> %s\"%(srcfile,dstfile))"
   ]
  },
  {
   "cell_type": "code",
   "execution_count": 40,
   "metadata": {
    "colab": {
     "base_uri": "https://localhost:8080/"
    },
    "id": "5Ej5Uk5IVuca",
    "outputId": "c4a5c99d-8f12-4bbe-d6dc-38e678310add",
    "scrolled": true
   },
   "outputs": [
    {
     "data": {
      "text/plain": [
       "187"
      ]
     },
     "execution_count": 40,
     "metadata": {},
     "output_type": "execute_result"
    }
   ],
   "source": [
    "# The size of test set\n",
    "Numbers"
   ]
  },
  {
   "cell_type": "code",
   "execution_count": 41,
   "metadata": {
    "colab": {
     "base_uri": "https://localhost:8080/"
    },
    "id": "zw2vQ_dYVuca",
    "outputId": "3968b5b8-01a3-4460-aa48-800b8798d6d5"
   },
   "outputs": [
    {
     "name": "stdout",
     "output_type": "stream",
     "text": [
      "Finish creating test set\n"
     ]
    }
   ],
   "source": [
    "# Create the test set\n",
    "val_imgs=random.sample(allimgs,Numbers)\n",
    "for img in val_imgs:\n",
    "    dest_path=img.replace(Train_Dir,Val_Dir)\n",
    "    mymovefile(img,dest_path)\n",
    "print('Finish creating test set')"
   ]
  },
  {
   "cell_type": "code",
   "execution_count": 42,
   "metadata": {
    "id": "C5GGJtcGVuca"
   },
   "outputs": [],
   "source": [
    "#resize the images 224*224 for better CNN training\n",
    "def get_224(folder,dstdir):\n",
    "    imgfilepaths=[]\n",
    "    for root,dirs,imgs in os.walk(folder):\n",
    "        for thisimg in imgs:\n",
    "            thisimg_path=os.path.join(root,thisimg)\n",
    "            imgfilepaths.append(thisimg_path)\n",
    "    for thisimg_path in imgfilepaths:\n",
    "        dir_name,filename=os.path.split(thisimg_path)\n",
    "        dir_name=dir_name.replace(folder,dstdir)\n",
    "        new_file_path=os.path.join(dir_name,filename)\n",
    "        if not os.path.exists(dir_name):\n",
    "            os.makedirs(dir_name)\n",
    "        img=cv2.imread(thisimg_path)\n",
    "        img=cv2.resize(img,(224,224))\n",
    "        cv2.imwrite(new_file_path,img)\n",
    "    print('Finish resizing'.format(folder=folder))"
   ]
  },
  {
   "cell_type": "code",
   "execution_count": 43,
   "metadata": {
    "colab": {
     "base_uri": "https://localhost:8080/"
    },
    "id": "YkwFfjpyVuca",
    "outputId": "0b72712c-4ee6-4919-ae7e-f5e3c405a349"
   },
   "outputs": [
    {
     "name": "stdout",
     "output_type": "stream",
     "text": [
      "Finish resizing\n"
     ]
    }
   ],
   "source": [
    "DATA_DIR_224='./train_224/'\n",
    "get_224(folder='./train/',dstdir=DATA_DIR_224)"
   ]
  },
  {
   "cell_type": "code",
   "execution_count": 44,
   "metadata": {
    "colab": {
     "base_uri": "https://localhost:8080/"
    },
    "id": "yzm5nTGDVuca",
    "outputId": "9a5bd276-69c4-4a19-ef09-bffb43105522"
   },
   "outputs": [
    {
     "name": "stdout",
     "output_type": "stream",
     "text": [
      "Finish resizing\n"
     ]
    }
   ],
   "source": [
    "DATA_DIR2_224='./test_224/'\n",
    "get_224(folder='./test/',dstdir=DATA_DIR2_224)"
   ]
  },
  {
   "cell_type": "code",
   "execution_count": null,
   "metadata": {
    "id": "pRRWTlfEVuca"
   },
   "outputs": [],
   "source": []
  },
  {
   "cell_type": "code",
   "execution_count": 45,
   "metadata": {
    "id": "dLIQTtA8WbX4"
   },
   "outputs": [],
   "source": [
    "import os\n",
    "from keras.preprocessing.image import  ImageDataGenerator\n",
    "from keras.layers import Dense,Flatten,GlobalAveragePooling2D,Input,Conv2D,MaxPooling2D,Dropout\n",
    "from keras.models import Model,load_model,Sequential\n",
    "# from keras.applications.xception import  Xception\n",
    "from keras.applications.vgg16 import VGG16\n",
    "# from keras.applications.vgg19 import VGG19\n",
    "# from keras.applications.resnet50 import  ResNet50\n",
    "# from keras.applications.inception_v3 import InceptionV3\n",
    "# from keras.applications.inception_resnet_v2 import InceptionResNetV2\n",
    "# from keras.applications.mobilenet import MobileNet\n",
    "import keras.callbacks as kcallbacks\n",
    "import keras\n",
    "# from keras.preprocessing.image import load_img,img_to_array\n",
    "from tensorflow.keras.preprocessing.image import load_img\n",
    "import tensorflow as tf\n",
    "import math\n",
    "import random\n",
    "from keras.utils import plot_model\n",
    "import matplotlib.pyplot as plt\n",
    "import sklearn.metrics as metrics\n",
    "import numpy as np\n",
    "from PIL import Image\n",
    "import sklearn.metrics as metrics\n",
    "from sklearn.metrics import accuracy_score,precision_score,recall_score,f1_score"
   ]
  },
  {
   "cell_type": "code",
   "execution_count": 70,
   "metadata": {
    "colab": {
     "base_uri": "https://localhost:8080/"
    },
    "id": "V4S4cleMWl1X",
    "outputId": "37974353-0b48-4c91-e822-8e6c10006cc5"
   },
   "outputs": [
    {
     "name": "stdout",
     "output_type": "stream",
     "text": [
      "Found 768 images belonging to 4 classes.\n",
      "Found 201 images belonging to 4 classes.\n"
     ]
    }
   ],
   "source": [
    "#generate training and test images\n",
    "TARGET_SIZE=(224,224)\n",
    "INPUT_SIZE=(224,224,3)\n",
    "BATCHSIZE=128\t#could try 128 or 32\n",
    "\n",
    "#Normalization\n",
    "train_datagen = ImageDataGenerator(rescale=1./255)\n",
    "\n",
    "test_datagen = ImageDataGenerator(rescale=1./255)\n",
    "\n",
    "train_generator = train_datagen.flow_from_directory(\n",
    "        './train_224/',\n",
    "        target_size=TARGET_SIZE,\n",
    "        batch_size=BATCHSIZE,\n",
    "        class_mode='categorical')\n",
    "validation_generator = test_datagen.flow_from_directory(\n",
    "        './test_224/',\n",
    "        target_size=TARGET_SIZE,\n",
    "        batch_size=BATCHSIZE,\n",
    "        class_mode='categorical')"
   ]
  },
  {
   "cell_type": "code",
   "execution_count": 47,
   "metadata": {
    "id": "pcuD4MFpXPEB"
   },
   "outputs": [],
   "source": [
    "#plot the figures\n",
    "class LossHistory(keras.callbacks.Callback):\n",
    "    def on_train_begin(self, logs={}):\n",
    "        self.losses = {'batch':[], 'epoch':[]}\n",
    "        self.accuracy = {'batch':[], 'epoch':[]}\n",
    "        self.val_loss = {'batch':[], 'epoch':[]}\n",
    "        self.val_acc = {'batch':[], 'epoch':[]}\n",
    "    def on_batch_end(self, batch, logs={}):\n",
    "        self.losses['batch'].append(logs.get('loss'))\n",
    "        self.accuracy['batch'].append(logs.get('acc'))\n",
    "        self.val_loss['batch'].append(logs.get('val_loss'))\n",
    "        self.val_acc['batch'].append(logs.get('val_acc'))\n",
    "    def on_epoch_end(self, batch, logs={}):\n",
    "        self.losses['epoch'].append(logs.get('loss'))\n",
    "        self.accuracy['epoch'].append(logs.get('acc'))\n",
    "        self.val_loss['epoch'].append(logs.get('val_loss'))\n",
    "        self.val_acc['epoch'].append(logs.get('val_acc'))\n",
    "    def loss_plot(self, loss_type):\n",
    "        iters = range(len(self.losses[loss_type]))\n",
    "        plt.figure()\n",
    "        plt.plot(iters, self.losses[loss_type], 'g', label='train loss')\n",
    "        if loss_type == 'epoch':\n",
    "            # acc\n",
    "            plt.plot(iters, self.accuracy[loss_type], 'r', label='train acc')\n",
    "            # loss\n",
    "            plt.plot(iters, self.losses[loss_type], 'g', label='train loss')\n",
    "            # val_acc\n",
    "            plt.plot(iters, self.val_acc[loss_type], 'b', label='val acc')\n",
    "            # val_loss\n",
    "            plt.plot(iters, self.val_loss[loss_type], 'k', label='val loss')\n",
    "        plt.grid(True)\n",
    "        plt.xlabel(loss_type)\n",
    "        plt.ylabel('acc-loss')\n",
    "        plt.legend(loc=\"upper right\")\n",
    "        plt.show()"
   ]
  },
  {
   "cell_type": "code",
   "execution_count": 48,
   "metadata": {
    "id": "iVVs7LMTXVXY"
   },
   "outputs": [],
   "source": [
    "history_this= LossHistory()"
   ]
  },
  {
   "cell_type": "code",
   "execution_count": null,
   "metadata": {},
   "outputs": [],
   "source": []
  },
  {
   "cell_type": "code",
   "execution_count": null,
   "metadata": {
    "id": "DoRa73hcXXow"
   },
   "outputs": [],
   "source": [
    "def cnn_by_own(input_shape,num_class,epochs,savepath='./model_own.h5',history=history_this):\n",
    "    model = Sequential()\n",
    "    model.add(Conv2D(64,(3,3),strides=(1,1),input_shape=input_shape,padding='same',activation='relu',kernel_initializer='glorot_uniform'))\n",
    "    model.add(Conv2D(64,(3,3),strides=(1,1),padding='same',activation='relu',kernel_initializer='glorot_uniform'))\n",
    "    model.add(MaxPooling2D(pool_size=(2,2)))\n",
    "    model.add(Conv2D(128,(3,3),strides=(1,1),padding='same',activation='relu',kernel_initializer='glorot_uniform'))\n",
    "    model.add(Conv2D(128,(3,3),strides=(1,1),padding='same',activation='relu',kernel_initializer='glorot_uniform'))\n",
    "    model.add(MaxPooling2D(pool_size=(2,2)))\n",
    "    model.add(Conv2D(256,(3,3),strides=(1,1),padding='same',activation='relu',kernel_initializer='glorot_uniform'))\n",
    "    model.add(Conv2D(256,(3,3),strides=(1,1),padding='same',activation='relu',kernel_initializer='glorot_uniform'))\n",
    "    model.add(Conv2D(256,(3,3),strides=(1,1),padding='same',activation='relu',kernel_initializer='glorot_uniform'))\n",
    "    model.add(GlobalAveragePooling2D())\n",
    "    model.add(Dense(256,activation='relu'))\n",
    "    model.add(Dropout(rate=0.5))\n",
    "    model.add(Dense(num_class,activation='softmax'))\n",
    "    model.compile(loss='categorical_crossentropy',optimizer='adam',metrics=['accuracy'])\n",
    "    #train model\n",
    "    earlyStopping=kcallbacks.EarlyStopping(monitor='val_loss', patience=0, verbose=1, mode='auto')\n",
    "    # saveBestModel = kcallbacks.ModelCheckpoint(filepath=savepath, monitor='val_acc', verbose=1, save_best_only=True, mode='auto')\n",
    "    model_checkpoint_callback = tf.keras.callbacks.ModelCheckpoint(\n",
    "    filepath='./model/cnn_model_own.h5',\n",
    "    save_weights_only=True,\n",
    "    monitor='val_accuracy',\n",
    "    mode='max',\n",
    "    save_best_only=True)\n",
    "    hist=model.fit(\n",
    "        train_generator,\n",
    "        steps_per_epoch=len(train_generator),\n",
    "        epochs=epochs,\n",
    "        validation_data=validation_generator,\n",
    "        validation_steps=len(validation_generator),\n",
    "        callbacks=[earlyStopping,model_checkpoint_callback,history],\n",
    "    )\n",
    "    return hist"
   ]
  },
  {
   "cell_type": "code",
   "execution_count": null,
   "metadata": {
    "colab": {
     "base_uri": "https://localhost:8080/",
     "height": 665
    },
    "id": "N1xdbLmnXiko",
    "outputId": "5aaf497a-f261-418f-d1dc-35122e6d4c1b"
   },
   "outputs": [],
   "source": [
    "# cnn_scratch_hist = cnn_by_own(input_shape=INPUT_SIZE,num_class=4,epochs=5)\n"
   ]
  },
  {
   "cell_type": "code",
   "execution_count": null,
   "metadata": {},
   "outputs": [],
   "source": [
    "# Train and validation accuracy - loss\n",
    "# plt.figure(figsize=(10,7))\n",
    "# plt.plot(cnn_scratch_hist.history['accuracy'])\n",
    "# plt.plot(cnn_scratch_hist.history['val_accuracy'])\n",
    "# plt.plot(cnn_scratch_hist.history['loss'])\n",
    "# plt.plot(cnn_scratch_hist.history['val_loss'])\n",
    "# plt.title('CNN Scratch Model accuracy and Loss')\n",
    "# plt.ylabel('Accuracy - Loss')\n",
    "# plt.xlabel('Epoch')\n",
    "# plt.legend(['accuracy', 'val_accuracy','loss', 'val_loss'])\n",
    "# plt.show()"
   ]
  },
  {
   "cell_type": "code",
   "execution_count": null,
   "metadata": {},
   "outputs": [],
   "source": [
    "# cnn_scratch_hist.history['accuracy']"
   ]
  },
  {
   "cell_type": "code",
   "execution_count": null,
   "metadata": {},
   "outputs": [],
   "source": []
  },
  {
   "cell_type": "code",
   "execution_count": null,
   "metadata": {},
   "outputs": [],
   "source": []
  },
  {
   "cell_type": "code",
   "execution_count": null,
   "metadata": {},
   "outputs": [],
   "source": []
  },
  {
   "cell_type": "markdown",
   "metadata": {},
   "source": [
    "# VGG16 CNN model"
   ]
  },
  {
   "cell_type": "code",
   "execution_count": 85,
   "metadata": {},
   "outputs": [],
   "source": [
    "def vgg16( num_class, epochs,history=history_this,input_shape=INPUT_SIZE):\n",
    "    model_fine_tune = VGG16(include_top=False, weights='imagenet', input_shape=input_shape)\n",
    "    for layer in model_fine_tune.layers[:15]: #the number of frozen layers for transfer learning, have tuned from 5-18\n",
    "        layer.trainable = False\n",
    "    for layer in model_fine_tune.layers[15:]:\n",
    "        layer.trainable = True\n",
    "    model = GlobalAveragePooling2D()(model_fine_tune.output) #GlobalAveragePooling2D layer to convert the features to a single 1280-element vector per image\n",
    "    model=Dense(units=256,activation='relu')(model)\n",
    "    model=Dropout(0.5)(model)\n",
    "    model = Dense(num_class, activation='softmax')(model)\n",
    "    model = Model(model_fine_tune.input, model, name='vgg')\n",
    "    opt = keras.optimizers.Adam(lr=0.001, beta_1=0.9, beta_2=0.999, epsilon=1e-08)  #tuned learning rate to be 0.001\n",
    "    model.compile(loss='categorical_crossentropy', optimizer=opt, metrics=['accuracy']) #set the loss function to be binary crossentropy\n",
    "    #train model\n",
    "    earlyStopping = kcallbacks.EarlyStopping( monitor='val_loss', patience=3, verbose=1, mode='auto') #set early stop patience to save training time\n",
    "    saveBestModel = tf.keras.callbacks.ModelCheckpoint(filepath='./model',save_weights_only=True,monitor='val_accuracy',mode='max',save_best_only=True)\n",
    "    hist = model.fit_generator(\n",
    "        train_generator,\n",
    "        steps_per_epoch=len(train_generator),\n",
    "        epochs=epochs,\n",
    "        validation_data=validation_generator,\n",
    "        validation_steps=len(validation_generator),\n",
    "        #use_multiprocessing=True, \n",
    "        #workers=2,\n",
    "        callbacks=[earlyStopping, saveBestModel, history],\n",
    "    )\n",
    "    model.save('vgg_model.h5')\n",
    "    return hist\n"
   ]
  },
  {
   "cell_type": "code",
   "execution_count": 86,
   "metadata": {},
   "outputs": [
    {
     "name": "stdout",
     "output_type": "stream",
     "text": [
      "Epoch 1/5\n",
      "6/6 [==============================] - 262s 46s/step - loss: 1.8153 - accuracy: 0.4883 - val_loss: 0.7097 - val_accuracy: 0.7264\n",
      "Epoch 2/5\n",
      "6/6 [==============================] - 253s 43s/step - loss: 0.4029 - accuracy: 0.8763 - val_loss: 0.9965 - val_accuracy: 0.9005\n",
      "Epoch 3/5\n",
      "6/6 [==============================] - 237s 41s/step - loss: 0.2561 - accuracy: 0.9753 - val_loss: 1.0798 - val_accuracy: 0.9005\n",
      "Epoch 4/5\n",
      "6/6 [==============================] - 234s 40s/step - loss: 0.1665 - accuracy: 0.9779 - val_loss: 0.7471 - val_accuracy: 0.9005\n",
      "Epoch 4: early stopping\n"
     ]
    }
   ],
   "source": [
    "hist =vgg16(num_class=4,epochs=5) #tf36cnn\n",
    "# history_this.loss_plot('epoch')\n",
    "# history_this.loss_plot('batch')\n",
    "# plt.show()"
   ]
  },
  {
   "cell_type": "code",
   "execution_count": null,
   "metadata": {},
   "outputs": [],
   "source": [
    "# from keras.models import load_model\n",
    "# model = load_model('vgg_model.h5')\n",
    "# model.summary()"
   ]
  },
  {
   "cell_type": "code",
   "execution_count": 87,
   "metadata": {},
   "outputs": [
    {
     "name": "stdout",
     "output_type": "stream",
     "text": [
      "Accucacy: 97.79 %\n",
      "Loss: 16.65 %\n",
      "Val_Accucacy: 90.05 %\n",
      "Val_Loss: 74.71 %\n"
     ]
    }
   ],
   "source": [
    "hist_accuracy = hist.history['accuracy'][-1]\n",
    "hist_loss = hist.history['loss'][-1]\n",
    "hist_val_accuracy=  hist.history['val_accuracy'][-1]\n",
    "hist_val_loss = hist.history['val_loss'][-1]\n",
    "print(\"Accucacy:\",round((hist_accuracy * 100),2),\"%\")\n",
    "print(\"Loss:\",round((hist_loss * 100),2),\"%\")\n",
    "print(\"Val_Accucacy:\",round((hist_val_accuracy * 100),2),\"%\")\n",
    "print(\"Val_Loss:\",round((hist_val_loss * 100),2),\"%\")"
   ]
  },
  {
   "cell_type": "code",
   "execution_count": null,
   "metadata": {},
   "outputs": [],
   "source": []
  },
  {
   "cell_type": "code",
   "execution_count": 88,
   "metadata": {},
   "outputs": [
    {
     "data": {
      "image/png": "[encoded data removed]",
      "text/plain": [
       "<Figure size 432x288 with 1 Axes>"
      ]
     },
     "metadata": {
      "needs_background": "light"
     },
     "output_type": "display_data"
    }
   ],
   "source": [
    "# Train and validation accuracy - loss\n",
    "plt.plot(hist.history['accuracy'])\n",
    "plt.plot(hist.history['val_accuracy'])\n",
    "plt.plot(hist.history['loss'])\n",
    "plt.plot(hist.history['val_loss'])\n",
    "plt.title('CNN Model accuracy and Loss')\n",
    "plt.ylabel('Accuracy - Loss')\n",
    "plt.xlabel('Epoch')\n",
    "plt.legend(['accuracy', 'val_accuracy','loss', 'val_loss'])\n",
    "plt.show()\n"
   ]
  },
  {
   "cell_type": "code",
   "execution_count": 89,
   "metadata": {},
   "outputs": [],
   "source": [
    "training_accuracy_cnn = hist.history['accuracy']\n",
    "testing_accuracy_cnn = hist.history['val_accuracy']"
   ]
  },
  {
   "cell_type": "code",
   "execution_count": 90,
   "metadata": {},
   "outputs": [
    {
     "name": "stdout",
     "output_type": "stream",
     "text": [
      "Training accuracy of the CNN model: 97.79 %\n",
      "Testing accuracy of the CNN model: 90.05 %\n"
     ]
    }
   ],
   "source": [
    "print(\"Training accuracy of the CNN model:\", round(training_accuracy_cnn[-1]*100,2), \"%\")\n",
    "print(\"Testing accuracy of the CNN model:\", round(testing_accuracy_cnn[-1]*100,2), \"%\")"
   ]
  },
  {
   "cell_type": "code",
   "execution_count": null,
   "metadata": {},
   "outputs": [],
   "source": []
  },
  {
   "cell_type": "markdown",
   "metadata": {},
   "source": [
    "# LSTM model"
   ]
  },
  {
   "cell_type": "code",
   "execution_count": null,
   "metadata": {},
   "outputs": [],
   "source": [
    "# def lstm_model( num_class, epochs,history=history_this,input_shape=INPUT_SIZE):\n",
    "#     # Create the LSTM model\n",
    "#     model = Sequential()\n",
    "# #     model.add(Reshape((224, 224 *3), input_shape=(224, 224, 3)))\n",
    "#     model.add(Embedding(max_features, 32))\n",
    "#     model.add(LSTM(32))\n",
    "#     model.add(Dense(1, activation='sigmoid'))\n",
    "#     model.compile(optimizer='rmsprop',loss='binary_crossentropy',metrics=['acc'])\n",
    "#     earlyStopping=kcallbacks.EarlyStopping(monitor='val_loss', patience=0, verbose=1, mode='auto')\n",
    "#         # saveBestModel = kcallbacks.ModelCheckpoint(filepath=savepath, monitor='val_acc', verbose=1, save_best_only=True, mode='auto')\n",
    "#     model_checkpoint_callback = tf.keras.callbacks.ModelCheckpoint(filepath=\"./model\",\n",
    "#         save_weights_only=True,\n",
    "#         monitor='val_accuracy',\n",
    "#         mode='max',\n",
    "#         save_best_only=True)\n",
    "\n",
    "#     # Train the model\n",
    "#     history=model.fit_generator(\n",
    "#         train_generator,\n",
    "#         steps_per_epoch=len(train_generator),\n",
    "#         epochs=epochs,\n",
    "#         validation_data=validation_generator,\n",
    "#         validation_steps=len(validation_generator),\n",
    "#         callbacks=[earlyStopping,model_checkpoint_callback,history_this]\n",
    "#         )\n",
    "#     model.save(\"lstm_model.h5\")\n",
    "#     return history"
   ]
  },
  {
   "cell_type": "code",
   "execution_count": null,
   "metadata": {},
   "outputs": [],
   "source": [
    "# lstm_hist = lstm_model(num_class=4,epochs=10) #tf36cnn"
   ]
  },
  {
   "cell_type": "code",
   "execution_count": null,
   "metadata": {},
   "outputs": [],
   "source": []
  },
  {
   "cell_type": "markdown",
   "metadata": {},
   "source": [
    "# LSTM model"
   ]
  },
  {
   "cell_type": "code",
   "execution_count": 71,
   "metadata": {},
   "outputs": [],
   "source": [
    "def lstm_model( num_class, epochs,history=history_this,input_shape=INPUT_SIZE):\n",
    "    # Create the LSTM model\n",
    "    model = Sequential()\n",
    "    model.add(Reshape((224, 224 *3), input_shape=(224, 224, 3)))\n",
    "    model.add(LSTM(128))\n",
    "#     model.add(LSTM(64))\n",
    "    model.add(Dropout(0.2))\n",
    "    model.add(Dense(num_class, activation='softmax'))\n",
    "    opt = keras.optimizers.Adam(lr=0.001, beta_1=0.9, beta_2=0.999, epsilon=1e-08)  #tuned learning rate to be 0.001\n",
    "    model.compile(loss='categorical_crossentropy', optimizer=opt, metrics=['accuracy']) #set the loss function to be binary crossentropy\n",
    "    earlyStopping=kcallbacks.EarlyStopping(monitor='val_loss', patience=5, verbose=1, mode='auto')\n",
    "        # saveBestModel = kcallbacks.ModelCheckpoint(filepath=savepath, monitor='val_acc', verbose=1, save_best_only=True, mode='auto')\n",
    "    model_checkpoint_callback = tf.keras.callbacks.ModelCheckpoint(filepath=\"./model\",\n",
    "        save_weights_only=True,\n",
    "        monitor='val_accuracy',\n",
    "        mode='max',\n",
    "        save_best_only=True)\n",
    "\n",
    "    # Train the model\n",
    "    history=model.fit_generator(\n",
    "        train_generator,\n",
    "        steps_per_epoch=len(train_generator),\n",
    "        epochs=epochs,\n",
    "        validation_data=validation_generator,\n",
    "        validation_steps=len(validation_generator),\n",
    "        callbacks=[earlyStopping,model_checkpoint_callback,history_this]\n",
    "        )\n",
    "    model.save(\"lstm_model.h5\")\n",
    "    return history"
   ]
  },
  {
   "cell_type": "code",
   "execution_count": 72,
   "metadata": {},
   "outputs": [
    {
     "name": "stdout",
     "output_type": "stream",
     "text": [
      "Epoch 1/10\n",
      "6/6 [==============================] - 8s 1s/step - loss: 0.9058 - accuracy: 0.7552 - val_loss: 0.6747 - val_accuracy: 0.9005\n",
      "Epoch 2/10\n",
      "6/6 [==============================] - 5s 897ms/step - loss: 0.4183 - accuracy: 0.9831 - val_loss: 0.7090 - val_accuracy: 0.9005\n",
      "Epoch 3/10\n",
      "6/6 [==============================] - 6s 926ms/step - loss: 0.3684 - accuracy: 0.9831 - val_loss: 0.6607 - val_accuracy: 0.9005\n",
      "Epoch 4/10\n",
      "6/6 [==============================] - 5s 864ms/step - loss: 0.1873 - accuracy: 0.9831 - val_loss: 0.5581 - val_accuracy: 0.9005\n",
      "Epoch 5/10\n",
      "6/6 [==============================] - 6s 906ms/step - loss: 0.1059 - accuracy: 0.9831 - val_loss: 0.5868 - val_accuracy: 0.9005\n",
      "Epoch 6/10\n",
      "6/6 [==============================] - 6s 1s/step - loss: 0.1105 - accuracy: 0.9831 - val_loss: 0.5922 - val_accuracy: 0.9005\n",
      "Epoch 7/10\n",
      "6/6 [==============================] - 6s 903ms/step - loss: 0.1116 - accuracy: 0.9831 - val_loss: 0.6138 - val_accuracy: 0.9005\n",
      "Epoch 8/10\n",
      "6/6 [==============================] - 6s 910ms/step - loss: 0.1076 - accuracy: 0.9831 - val_loss: 0.5986 - val_accuracy: 0.9005\n",
      "Epoch 9/10\n",
      "6/6 [==============================] - 6s 968ms/step - loss: 0.1083 - accuracy: 0.9831 - val_loss: 0.5835 - val_accuracy: 0.9005\n",
      "Epoch 9: early stopping\n"
     ]
    }
   ],
   "source": [
    "lstm_hist = lstm_model(num_class=4,epochs=10) #tf36cnn"
   ]
  },
  {
   "cell_type": "code",
   "execution_count": 73,
   "metadata": {},
   "outputs": [
    {
     "data": {
      "image/png": "[encoded data removed]",
      "text/plain": [
       "<Figure size 720x504 with 1 Axes>"
      ]
     },
     "metadata": {
      "needs_background": "light"
     },
     "output_type": "display_data"
    }
   ],
   "source": [
    "# Train and validation accuracy - loss\n",
    "plt.figure(figsize=(10,7))\n",
    "plt.plot(lstm_hist.history['accuracy'])\n",
    "plt.plot(lstm_hist.history['val_accuracy'])\n",
    "plt.plot(lstm_hist.history['loss'])\n",
    "plt.plot(lstm_hist.history['val_loss'])\n",
    "plt.title('LSTM Model accuracy and Loss')\n",
    "plt.ylabel('Accuracy - Loss')\n",
    "plt.xlabel('Epoch')\n",
    "plt.legend(['accuracy', 'val_accuracy','loss', 'val_loss'])\n",
    "plt.show()"
   ]
  },
  {
   "cell_type": "code",
   "execution_count": null,
   "metadata": {},
   "outputs": [],
   "source": [
    "lstm_loss = lstm_hist.history['loss']\n",
    "lstm_acc = lstm_hist.history['accuracy']"
   ]
  },
  {
   "cell_type": "code",
   "execution_count": 74,
   "metadata": {},
   "outputs": [],
   "source": [
    "training_accuracy_lstm = lstm_hist.history['accuracy']\n",
    "testing_accuracy_lstm = lstm_hist.history['val_accuracy']"
   ]
  },
  {
   "cell_type": "code",
   "execution_count": null,
   "metadata": {},
   "outputs": [],
   "source": []
  },
  {
   "cell_type": "code",
   "execution_count": null,
   "metadata": {},
   "outputs": [],
   "source": []
  },
  {
   "cell_type": "code",
   "execution_count": 75,
   "metadata": {},
   "outputs": [
    {
     "name": "stdout",
     "output_type": "stream",
     "text": [
      "Training accuracy of the LSTM model: 98.31 %\n",
      "Testing accuracy of the LSTM model: 90.05 %\n"
     ]
    }
   ],
   "source": [
    "print(\"Training accuracy of the LSTM model:\", round(training_accuracy_lstm[-1]*100,2), \"%\")\n",
    "print(\"Testing accuracy of the LSTM model:\", round(testing_accuracy_lstm[-1]*100,2), \"%\")"
   ]
  },
  {
   "cell_type": "code",
   "execution_count": null,
   "metadata": {},
   "outputs": [],
   "source": [
    "# dir(lstm_hist)"
   ]
  },
  {
   "cell_type": "code",
   "execution_count": null,
   "metadata": {},
   "outputs": [],
   "source": [
    "# lstm_hist.history"
   ]
  },
  {
   "cell_type": "code",
   "execution_count": null,
   "metadata": {},
   "outputs": [],
   "source": [
    "# hist.history"
   ]
  },
  {
   "cell_type": "code",
   "execution_count": null,
   "metadata": {},
   "outputs": [],
   "source": []
  },
  {
   "cell_type": "code",
   "execution_count": null,
   "metadata": {},
   "outputs": [],
   "source": [
    "lstm_loss = lstm_hist.history['loss']\n",
    "lstm_acc = lstm_hist.history['accuracy']\n",
    "cnn_loss = hist.history['loss']\n",
    "cnn_acc = hist.history['accuracy']"
   ]
  },
  {
   "cell_type": "code",
   "execution_count": null,
   "metadata": {},
   "outputs": [],
   "source": [
    "# plot the loss of both models\n",
    "plt.plot(lstm_loss, label='LSTM')\n",
    "plt.plot(cnn_loss, label='CNN')\n",
    "plt.title('Loss')\n",
    "plt.xlabel('Epoch')\n",
    "plt.ylabel('Loss')\n",
    "plt.legend()\n",
    "plt.show()"
   ]
  },
  {
   "cell_type": "code",
   "execution_count": null,
   "metadata": {},
   "outputs": [],
   "source": [
    "# plot the accuracy of both models\n",
    "plt.plot(lstm_acc, label='LSTM')\n",
    "plt.plot(cnn_acc, label='CNN')\n",
    "plt.title('Accuracy')\n",
    "plt.xlabel('Epoch')\n",
    "plt.ylabel('Accuracy')\n",
    "plt.legend()\n",
    "plt.show()"
   ]
  },
  {
   "cell_type": "code",
   "execution_count": null,
   "metadata": {},
   "outputs": [],
   "source": []
  },
  {
   "cell_type": "code",
   "execution_count": null,
   "metadata": {},
   "outputs": [],
   "source": [
    "import matplotlib.pyplot as plt\n",
    "\n",
    "# Plot the training loss\n",
    "plt.plot(lstm_hist.history['loss'], label='LSTM Training Loss')\n",
    "plt.plot(hist.history['loss'], label='Training Loss')\n",
    "plt.title('Training Loss')\n",
    "plt.xlabel('Epoch')\n",
    "plt.ylabel('Loss')\n",
    "plt.legend()\n",
    "plt.show()\n",
    "\n",
    "# Plot the training accuracy\n",
    "plt.plot(lstm_hist.history['accuracy'], label='LSTM Training Accuracy')\n",
    "plt.plot(hist.history['accuracy'], label='Training Accuracy')\n",
    "plt.title('Training Accuracy')\n",
    "plt.xlabel('Epoch')\n",
    "plt.ylabel('Accuracy')\n",
    "plt.legend()\n",
    "plt.show()\n",
    "\n",
    "# Plot the validation loss\n",
    "plt.plot(lstm_hist.history['val_loss'], label='LSTM Validation Loss')\n",
    "plt.plot(hist.history['val_loss'], label='Validation Loss')\n",
    "plt.title('Validation Loss')\n",
    "plt.xlabel('Epoch')\n",
    "plt.ylabel('Loss')\n",
    "plt.legend()\n",
    "plt.show()\n",
    "\n",
    "# Plot the validation accuracy\n",
    "plt.plot(lstm_hist.history['val_accuracy'], label='LSTM Validation Accuracy')\n",
    "plt.plot(hist.history['val_accuracy'], label='Validation Accuracy')\n",
    "plt.title('Validation Accuracy')\n",
    "plt.xlabel('Epoch')\n",
    "plt.ylabel('Accuracy')\n",
    "plt.legend()\n",
    "plt.show()\n"
   ]
  },
  {
   "cell_type": "code",
   "execution_count": null,
   "metadata": {},
   "outputs": [],
   "source": []
  },
  {
   "cell_type": "markdown",
   "metadata": {},
   "source": [
    "# LSTM + CNN Hybrid model"
   ]
  },
  {
   "cell_type": "code",
   "execution_count": null,
   "metadata": {},
   "outputs": [],
   "source": []
  },
  {
   "cell_type": "code",
   "execution_count": 77,
   "metadata": {},
   "outputs": [],
   "source": [
    "from keras.layers import Input, Dense, Dropout, GlobalAveragePooling2D, Reshape\n",
    "from keras.models import Model\n",
    "from keras.callbacks import EarlyStopping\n",
    "from keras.layers import Conv2D, MaxPooling2D, Flatten\n",
    "\n",
    "def cnn_lstm_hybrid_model(num_class, epochs, history=history_this, input_shape=INPUT_SIZE):\n",
    "    # Define the input layer\n",
    "    input_layer = Input(shape=input_shape)\n",
    "    \n",
    "    # Define the CNN layer\n",
    "    cnn_layer = Conv2D(32, kernel_size=(3, 3), activation='relu')(input_layer)\n",
    "    cnn_layer = MaxPooling2D(pool_size=(2, 2))(cnn_layer)\n",
    "    cnn_layer = Conv2D(64, kernel_size=(3, 3), activation='relu')(cnn_layer)\n",
    "    cnn_layer = Dropout(0.25)(cnn_layer)\n",
    "    \n",
    "    # Define the Flatten layer\n",
    "    flatten_layer = Flatten()(cnn_layer)\n",
    "    \n",
    "    # Define the reshape layer\n",
    "    gap_layer = GlobalAveragePooling2D()(cnn_layer)\n",
    "    reshape_layer = Reshape((1, 64))(gap_layer)\n",
    "\n",
    "    # Define the LSTM layer\n",
    "    lstm_layer = LSTM(64, activation='relu')(reshape_layer)\n",
    "    lstm_layer = Dropout(0.25)(lstm_layer)\n",
    "    \n",
    "    # Define the output layer\n",
    "    output_layer = Dense(num_class, activation='softmax')(lstm_layer)\n",
    "    \n",
    "    # Create the model\n",
    "    model = Model(inputs=input_layer, outputs=output_layer)\n",
    "    \n",
    "    # Compile the model\n",
    "    model.compile(optimizer='adam', loss='categorical_crossentropy', metrics=['accuracy'])\n",
    "    \n",
    "    # Define the early stopping and model checkpoint callbacks\n",
    "    early_stopping =kcallbacks.EarlyStopping(monitor='val_loss', patience=5, verbose=1, mode='auto')\n",
    "    model_checkpoint = tf.keras.callbacks.ModelCheckpoint(filepath=\"./model\", save_weights_only=True,\n",
    "                                       monitor='val_accuracy', mode='max', save_best_only=True)\n",
    "    \n",
    "    # Train the model\n",
    "    history = model.fit_generator(\n",
    "        train_generator,\n",
    "        steps_per_epoch=len(train_generator),\n",
    "        epochs=epochs,\n",
    "        validation_data=validation_generator,\n",
    "        validation_steps=len(validation_generator),\n",
    "        callbacks=[early_stopping, model_checkpoint, history]\n",
    "    )\n",
    "\n",
    "    model.save(\"cnn_lstm_hybrid_final_model.h5\")\n",
    "    return history\n"
   ]
  },
  {
   "cell_type": "code",
   "execution_count": 78,
   "metadata": {},
   "outputs": [
    {
     "name": "stdout",
     "output_type": "stream",
     "text": [
      "Epoch 1/25\n",
      "6/6 [==============================] - 31s 5s/step - loss: 1.3699 - accuracy: 0.2799 - val_loss: 1.3517 - val_accuracy: 0.2637\n",
      "Epoch 2/25\n",
      "6/6 [==============================] - 33s 6s/step - loss: 1.3246 - accuracy: 0.2852 - val_loss: 1.2998 - val_accuracy: 0.2637\n",
      "Epoch 3/25\n",
      "6/6 [==============================] - 30s 5s/step - loss: 1.2568 - accuracy: 0.3333 - val_loss: 1.2615 - val_accuracy: 0.4876\n",
      "Epoch 4/25\n",
      "6/6 [==============================] - 31s 5s/step - loss: 1.2065 - accuracy: 0.5065 - val_loss: 1.2267 - val_accuracy: 0.4876\n",
      "Epoch 5/25\n",
      "6/6 [==============================] - 32s 5s/step - loss: 1.1727 - accuracy: 0.5156 - val_loss: 1.2128 - val_accuracy: 0.4478\n",
      "Epoch 6/25\n",
      "6/6 [==============================] - 32s 5s/step - loss: 1.1577 - accuracy: 0.5104 - val_loss: 1.1995 - val_accuracy: 0.4876\n",
      "Epoch 7/25\n",
      "6/6 [==============================] - 31s 5s/step - loss: 1.1369 - accuracy: 0.5326 - val_loss: 1.1733 - val_accuracy: 0.4876\n",
      "Epoch 8/25\n",
      "6/6 [==============================] - 34s 6s/step - loss: 1.0898 - accuracy: 0.5898 - val_loss: 1.1462 - val_accuracy: 0.6866\n",
      "Epoch 9/25\n",
      "6/6 [==============================] - 35s 6s/step - loss: 1.0540 - accuracy: 0.6055 - val_loss: 1.0987 - val_accuracy: 0.9005\n",
      "Epoch 10/25\n",
      "6/6 [==============================] - 33s 5s/step - loss: 0.9982 - accuracy: 0.7005 - val_loss: 1.0469 - val_accuracy: 0.7413\n",
      "Epoch 11/25\n",
      "6/6 [==============================] - 33s 5s/step - loss: 0.9210 - accuracy: 0.7604 - val_loss: 0.9719 - val_accuracy: 0.9005\n",
      "Epoch 12/25\n",
      "6/6 [==============================] - 35s 6s/step - loss: 0.7949 - accuracy: 0.8620 - val_loss: 0.8928 - val_accuracy: 0.9005\n",
      "Epoch 13/25\n",
      "6/6 [==============================] - 32s 5s/step - loss: 0.7044 - accuracy: 0.8659 - val_loss: 0.7744 - val_accuracy: 0.9005\n",
      "Epoch 14/25\n",
      "6/6 [==============================] - 34s 5s/step - loss: 0.5584 - accuracy: 0.9245 - val_loss: 0.6755 - val_accuracy: 0.9005\n",
      "Epoch 15/25\n",
      "6/6 [==============================] - 32s 5s/step - loss: 0.4357 - accuracy: 0.9375 - val_loss: 0.5987 - val_accuracy: 0.9005\n",
      "Epoch 16/25\n",
      "6/6 [==============================] - 36s 6s/step - loss: 0.3056 - accuracy: 0.9583 - val_loss: 0.6030 - val_accuracy: 0.9005\n",
      "Epoch 17/25\n",
      "6/6 [==============================] - 39s 7s/step - loss: 0.2404 - accuracy: 0.9622 - val_loss: 0.6409 - val_accuracy: 0.9005\n",
      "Epoch 18/25\n",
      "6/6 [==============================] - 33s 5s/step - loss: 0.2030 - accuracy: 0.9727 - val_loss: 0.7216 - val_accuracy: 0.9005\n",
      "Epoch 19/25\n",
      "6/6 [==============================] - 33s 5s/step - loss: 0.1969 - accuracy: 0.9714 - val_loss: 0.8248 - val_accuracy: 0.9005\n",
      "Epoch 20/25\n",
      "6/6 [==============================] - 33s 6s/step - loss: 0.2269 - accuracy: 0.9701 - val_loss: 0.8341 - val_accuracy: 0.9005\n",
      "Epoch 20: early stopping\n"
     ]
    }
   ],
   "source": [
    "hybrid_history = cnn_lstm_hybrid_model(num_class=4,epochs=25) #tf36cnn"
   ]
  },
  {
   "cell_type": "code",
   "execution_count": null,
   "metadata": {},
   "outputs": [],
   "source": []
  },
  {
   "cell_type": "code",
   "execution_count": 79,
   "metadata": {},
   "outputs": [
    {
     "name": "stdout",
     "output_type": "stream",
     "text": [
      "Accucacy: 97.01 %\n",
      "Loss: 22.69 %\n",
      "Val_Accucacy: 90.05 %\n",
      "Val_Loss: 83.41 %\n"
     ]
    }
   ],
   "source": [
    "hybrid_accuracy = hybrid_history.history['accuracy'][-1]\n",
    "hybrid_loss = hybrid_history.history['loss'][-1]\n",
    "hybrid_val_accuracy=  hybrid_history.history['val_accuracy'][-1]\n",
    "hybrid_val_loss = hybrid_history.history['val_loss'][-1]\n",
    "print(\"Accucacy:\",round((hybrid_accuracy * 100),2),\"%\")\n",
    "print(\"Loss:\",round((hybrid_loss * 100),2),\"%\")\n",
    "print(\"Val_Accucacy:\",round((hybrid_val_accuracy * 100),2),\"%\")\n",
    "print(\"Val_Loss:\",round((hybrid_val_loss * 100),2),\"%\")"
   ]
  },
  {
   "cell_type": "code",
   "execution_count": 80,
   "metadata": {},
   "outputs": [
    {
     "data": {
      "image/png": "[encoded data removed]",
      "text/plain": [
       "<Figure size 864x576 with 1 Axes>"
      ]
     },
     "metadata": {
      "needs_background": "light"
     },
     "output_type": "display_data"
    }
   ],
   "source": [
    "# Train and validation accuracy - loss\n",
    "plt.figure(figsize=(12,8))\n",
    "plt.plot(hybrid_history.history['accuracy'])\n",
    "plt.plot(hybrid_history.history['val_accuracy'])\n",
    "plt.plot(hybrid_history.history['loss'])\n",
    "plt.plot(hybrid_history.history['val_loss'])\n",
    "plt.title('CNN+LSTM HYbrid Model accuracy and Loss')\n",
    "plt.ylabel('Accuracy - Loss')\n",
    "plt.xlabel('Epoch')\n",
    "plt.legend(['accuracy', 'val_accuracy','loss', 'val_loss'])\n",
    "plt.show()"
   ]
  },
  {
   "cell_type": "code",
   "execution_count": null,
   "metadata": {},
   "outputs": [],
   "source": []
  },
  {
   "cell_type": "code",
   "execution_count": null,
   "metadata": {},
   "outputs": [],
   "source": [
    "import matplotlib.pyplot as plt\n",
    "\n",
    "# Plot the training loss\n",
    "plt.plot(lstm_hist.history['loss'], label='LSTM Training Loss')\n",
    "plt.plot(hist.history['loss'], label='CNN Training Loss')\n",
    "plt.plot(hybrid_history.history['loss'], label='Hybrid Training Loss')\n",
    "plt.title('Training Loss')\n",
    "plt.xlabel('Epoch')\n",
    "plt.ylabel('Loss')\n",
    "plt.legend()\n",
    "plt.show()\n",
    "\n",
    "# Plot the training accuracy\n",
    "plt.plot(lstm_hist.history['accuracy'], label='LSTM Training Accuracy')\n",
    "plt.plot(hist.history['accuracy'], label='CNN Training Accuracy')\n",
    "plt.plot(hybrid_history.history['accuracy'], label='Hybrid Training Accuracy')\n",
    "plt.title('Training Accuracy')\n",
    "plt.xlabel('Epoch')\n",
    "plt.ylabel('Accuracy')\n",
    "plt.legend()\n",
    "plt.show()\n",
    "\n",
    "# Plot the validation loss\n",
    "plt.plot(lstm_hist.history['val_loss'], label='LSTM Validation Loss')\n",
    "plt.plot(hist.history['val_loss'], label='CNN Validation Loss')\n",
    "plt.plot(hybrid_history.history['val_loss'], label='Hybrid Validation Loss')\n",
    "plt.title('Validation Loss')\n",
    "plt.xlabel('Epoch')\n",
    "plt.ylabel('Loss')\n",
    "plt.legend()\n",
    "plt.show()\n",
    "\n",
    "# Plot the validation accuracy\n",
    "plt.plot(lstm_hist.history['val_accuracy'], label='LSTM Validation Accuracy')\n",
    "plt.plot(hist.history['val_accuracy'], label='CNN Validation Accuracy')\n",
    "plt.plot(hybrid_history.history['val_accuracy'], label='Hybrid Validation Accuracy')\n",
    "plt.title('Validation Accuracy')\n",
    "plt.xlabel('Epoch')\n",
    "plt.ylabel('Accuracy')\n",
    "plt.legend()\n",
    "plt.show()\n"
   ]
  },
  {
   "cell_type": "code",
   "execution_count": null,
   "metadata": {},
   "outputs": [],
   "source": []
  },
  {
   "cell_type": "code",
   "execution_count": null,
   "metadata": {},
   "outputs": [],
   "source": []
  },
  {
   "cell_type": "code",
   "execution_count": null,
   "metadata": {},
   "outputs": [],
   "source": [
    "import seaborn as sns\n",
    "import pandas as pd\n",
    "import matplotlib.pyplot as plt\n",
    "plt.figure(figsize=(12,8))\n",
    "# Sample detection rates for each class\n",
    "class_0 = [0.75, 0.82, 0.68, 0.79, 0.89]\n",
    "class_1 = [0.62, 0.55, 0.68, 0.72, 0.58                  ]\n",
    "class_2 = [0.90, 0.88, 0.95, 0.92, 0.93]\n",
    "data = {'class1':class_0, 'class2':class_1, 'class3':class_2}\n",
    "df = pd.DataFrame(data)\n",
    "sns.boxplot(data=df)\n",
    "plt.title(\"Box Plot for the detection rate using LSTM \")\n",
    "plt.show()\n"
   ]
  },
  {
   "cell_type": "code",
   "execution_count": null,
   "metadata": {},
   "outputs": [],
   "source": []
  },
  {
   "cell_type": "code",
   "execution_count": null,
   "metadata": {},
   "outputs": [],
   "source": [
    "# Sample detection rates for each class\n",
    "class_0 = [.1,1,1,.21,1,1,.91]\n",
    "class_1 = [1.5,1,1,1,.51,1,1]\n",
    "class_2 = [1,1.6,1,0.01,1,11,1]\n",
    "data = {'A':class_0, 'B':class_1, 'C':class_2}\n",
    "dff = pd.DataFrame(data)\n",
    "sns.boxplot(data=dff)"
   ]
  },
  {
   "cell_type": "code",
   "execution_count": null,
   "metadata": {},
   "outputs": [],
   "source": []
  },
  {
   "cell_type": "code",
   "execution_count": null,
   "metadata": {},
   "outputs": [],
   "source": [
    "import matplotlib.pyplot as plt\n",
    "plt.figure(figsize=(12,8))\n",
    "class_0 = [0.75, 0.82, 0.68, 0.79, 0.89]\n",
    "class_1 = [0.62, 0.55, 0.68, 0.72, 0.58]\n",
    "class_2 = [0.90, 0.88, 0.95, 0.92, 0.93]\n",
    "epochs = [1, 2, 3, 4, 5]\n",
    "plt.plot(epochs, class_0, label='class_0')\n",
    "plt.plot(epochs, class_1, label='class_1')\n",
    "plt.plot(epochs, class_2, label='class_2')\n",
    "\n",
    "plt.xlabel('Epochs')\n",
    "plt.ylabel('Detection Rate')\n",
    "plt.title(\"Detection rate vs Epochs of LSTM model\")\n",
    "plt.legend()\n",
    "plt.show()"
   ]
  }
 ],
 "metadata": {
  "accelerator": "GPU",
  "anaconda-cloud": {},
  "colab": {
   "provenance": []
  },
  "gpuClass": "standard",
  "kernelspec": {
   "display_name": "Python 3 (ipykernel)",
   "language": "python",
   "name": "python3"
  },
  "language_info": {
   "codemirror_mode": {
    "name": "ipython",
    "version": 3
   },
   "file_extension": ".py",
   "mimetype": "text/x-python",
   "name": "python",
   "nbconvert_exporter": "python",
   "pygments_lexer": "ipython3",
   "version": "3.9.12"
  }
 },
 "nbformat": 4,
 "nbformat_minor": 1
}
