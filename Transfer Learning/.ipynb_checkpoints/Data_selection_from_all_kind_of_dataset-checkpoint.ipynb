{
 "cells": [
  {
   "cell_type": "code",
   "execution_count": 1,
   "metadata": {
    "id": "lGiyP2dR6Jw-"
   },
   "outputs": [],
   "source": [
    "import numpy as np\n",
    "import pandas as pd"
   ]
  },
  {
   "cell_type": "code",
   "execution_count": 2,
   "metadata": {
    "colab": {
     "base_uri": "https://localhost:8080/"
    },
    "id": "K4qXdKi-756E",
    "outputId": "fcf9fee4-8ccb-48a1-99bc-401628828b0f"
   },
   "outputs": [],
   "source": [
    "def changecolumn(dataset, AttackType):\n",
    "    df = pd.read_csv(dataset).sample(frac = 0.01, random_state = 20, replace = False).reset_index(drop=True)\n",
    "    df.columns = [\"Timestamp\", \"CAN ID\", \"Byte\", \"DATA[0]\",\"DATA[1]\",\"DATA[2]\",\"DATA[3]\",\"DATA[4]\",\"DATA[5]\",\"DATA[6]\",\"DATA[7]\",\"AttackType\"]\n",
    "    df['AttackType'] = np.where(df['AttackType'] == 'T',AttackType, 'R')\n",
    "    df.dropna()\n",
    "    return df\n",
    "\n",
    "dfDos = changecolumn('DoS_dataset.csv','DoS Attack')\n",
    "dfFuzzy = changecolumn('Fuzzy_dataset.csv','Fuzzy Attack')\n",
    "dfGear = changecolumn('gear_dataset.csv','Gear Spooing Attack')\n",
    "dfRPM = changecolumn('RPM_dataset.csv','RPM Spoofing Attack')\n",
    "frames = [dfDos, dfFuzzy, dfGear, dfRPM]\n",
    "df = pd.concat(frames)\n",
    "# print(df.head(10))\n",
    "# print(df.shape)"
   ]
  },
  {
   "cell_type": "code",
   "execution_count": 3,
   "metadata": {
    "colab": {
     "base_uri": "https://localhost:8080/",
     "height": 1000
    },
    "id": "XZTb7XOpJhQw",
    "outputId": "2755474a-cd7b-4575-cca0-7b7017da8297"
   },
   "outputs": [],
   "source": [
    "df = df.dropna()\n",
    "def changecolumntype(df):\n",
    "    for column in df[['CAN ID', 'DATA[0]', 'DATA[1]', 'DATA[2]', 'DATA[3]', 'DATA[4]', 'DATA[5]', 'DATA[6]', 'DATA[7]']]:\n",
    "        df[column] = df[column].apply(lambda x: int(str(x), base=16))\n",
    "    return df\n",
    "\n",
    "df = changecolumntype(df)\n",
    "# print(df.dtypes)\n",
    "# df.head(10)"
   ]
  },
  {
   "cell_type": "code",
   "execution_count": 4,
   "metadata": {},
   "outputs": [],
   "source": [
    "# Remove two columns name \"Timestamp\"\n",
    "df = df.drop(['Timestamp','Byte'], axis=1)"
   ]
  },
  {
   "cell_type": "code",
   "execution_count": 5,
   "metadata": {},
   "outputs": [],
   "source": [
    "attacktype = {'DoS Attack': 'Dos','Fuzzy Attack': 'Fuzzy','Gear Spooing Attack': 'gear','RPM Spoofing Attack': 'RPM'}"
   ]
  },
  {
   "cell_type": "code",
   "execution_count": 6,
   "metadata": {
    "colab": {
     "base_uri": "https://localhost:8080/",
     "height": 601
    },
    "id": "ym4-oGjemqFD",
    "outputId": "2dc335e5-788b-41ff-d48c-1a2602f67391"
   },
   "outputs": [],
   "source": [
    "df.rename(columns = {'AttackType':'Label'}, inplace = True)\n",
    "df.replace({\"Label\": attacktype}, inplace = True)"
   ]
  },
  {
   "cell_type": "code",
   "execution_count": 7,
   "metadata": {},
   "outputs": [],
   "source": [
    "#saving the dataframe\n",
    "df.to_csv('1_percentage_of_each_dataset.csv',index=False)"
   ]
  },
  {
   "cell_type": "code",
   "execution_count": null,
   "metadata": {},
   "outputs": [],
   "source": []
  },
  {
   "cell_type": "code",
   "execution_count": null,
   "metadata": {},
   "outputs": [],
   "source": []
  },
  {
   "cell_type": "code",
   "execution_count": null,
   "metadata": {},
   "outputs": [],
   "source": []
  },
  {
   "cell_type": "code",
   "execution_count": null,
   "metadata": {},
   "outputs": [],
   "source": [
    "fuzzy_log = pd.read_csv(dataset)"
   ]
  }
 ],
 "metadata": {
  "colab": {
   "collapsed_sections": [],
   "name": "CAR_IDS_LOGISTIC_SVM (1).ipynb",
   "provenance": []
  },
  "kernelspec": {
   "display_name": "Python 3 (ipykernel)",
   "language": "python",
   "name": "python3"
  },
  "language_info": {
   "codemirror_mode": {
    "name": "ipython",
    "version": 3
   },
   "file_extension": ".py",
   "mimetype": "text/x-python",
   "name": "python",
   "nbconvert_exporter": "python",
   "pygments_lexer": "ipython3",
   "version": "3.9.12"
  }
 },
 "nbformat": 4,
 "nbformat_minor": 1
}
