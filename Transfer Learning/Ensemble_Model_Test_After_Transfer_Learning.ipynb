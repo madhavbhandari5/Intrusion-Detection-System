{
 "cells": [
  {
   "cell_type": "markdown",
   "metadata": {},
   "source": [
    "## Import libraries"
   ]
  },
  {
   "cell_type": "code",
   "execution_count": 70,
   "metadata": {},
   "outputs": [],
   "source": [
    "import warnings\n",
    "warnings.filterwarnings(\"ignore\")\n",
    "import keras\n",
    "from keras.models import Model,load_model\n",
    "from keras import Input\n",
    "from keras.layers import concatenate,Dense,Flatten,Dropout\n",
    "from keras.preprocessing.image import  ImageDataGenerator\n",
    "import keras.callbacks as kcallbacks\n",
    "import os\n",
    "import math\n",
    "import time\n",
    "from keras.utils import plot_model\n",
    "from keras.callbacks import EarlyStopping, ReduceLROnPlateau, ModelCheckpoint, LearningRateScheduler\n",
    "from keras.optimizers import SGD\n",
    "import operator\n",
    "import numpy as np\n",
    "from PIL import Image\n",
    "from collections import defaultdict\n",
    "import seaborn as sns\n",
    "from sklearn.metrics import confusion_matrix\n",
    "import matplotlib.pyplot as plt\n",
    "from io import StringIO\n",
    "import pandas as pd"
   ]
  },
  {
   "cell_type": "code",
   "execution_count": 71,
   "metadata": {},
   "outputs": [],
   "source": [
    "import pandas as pd\n",
    "import cv2\n",
    "import random\n",
    "import matplotlib.pyplot as plt\n",
    "import shutil\n",
    "from sklearn.preprocessing import QuantileTransformer\n",
    "from PIL import Image\n",
    "import warnings\n",
    "warnings.filterwarnings(\"ignore\")\n",
    "\n",
    "from keras.layers import LSTM, Dense, Dropout\n",
    "from keras.models import Sequential\n",
    "from keras.preprocessing.image import ImageDataGenerator\n",
    "from keras.utils import np_utils\n",
    "from keras.layers import Reshape"
   ]
  },
  {
   "cell_type": "code",
   "execution_count": null,
   "metadata": {},
   "outputs": [],
   "source": []
  },
  {
   "cell_type": "code",
   "execution_count": 72,
   "metadata": {},
   "outputs": [],
   "source": [
    "import os\n",
    "from keras.preprocessing.image import  ImageDataGenerator\n",
    "from keras.layers import Dense,Flatten,GlobalAveragePooling2D,Input,Conv2D,MaxPooling2D,Dropout\n",
    "from keras.models import Model,load_model,Sequential\n",
    "from keras.applications.xception import  Xception\n",
    "from keras.applications.vgg16 import VGG16\n",
    "from keras.applications.vgg19 import VGG19\n",
    "# from keras.applications.resnet50 import  ResNet50\n",
    "from keras.applications.inception_v3 import InceptionV3\n",
    "from keras.applications.inception_resnet_v2 import InceptionResNetV2\n",
    "from keras.applications.mobilenet import MobileNet\n",
    "import keras.callbacks as kcallbacks\n",
    "import keras\n",
    "# from keras.preprocessing.image import load_img,img_to_array\n",
    "from tensorflow.keras.preprocessing.image import load_img\n",
    "import tensorflow as tf\n",
    "from keras.utils import plot_model\n",
    "import matplotlib.pyplot as plt\n",
    "import sklearn.metrics as metrics\n",
    "from PIL import Image\n",
    "import sklearn.metrics as metrics\n",
    "from sklearn.metrics import accuracy_score,precision_score,recall_score,f1_score\n",
    "from sklearn.metrics import classification_report, confusion_matrix\n"
   ]
  },
  {
   "cell_type": "code",
   "execution_count": null,
   "metadata": {},
   "outputs": [],
   "source": []
  },
  {
   "cell_type": "markdown",
   "metadata": {},
   "source": [
    "## Read the test set"
   ]
  },
  {
   "cell_type": "code",
   "execution_count": 73,
   "metadata": {},
   "outputs": [
    {
     "name": "stdout",
     "output_type": "stream",
     "text": [
      "Found 304 images belonging to 2 classes.\n"
     ]
    }
   ],
   "source": [
    "#generate images from train set and validation set\n",
    "TARGET_SIZE=(224,224)\n",
    "INPUT_SIZE=(224,224,3)\n",
    "BATCHSIZE=128\n",
    "\n",
    "test_datagen = ImageDataGenerator(rescale=1./255)\n",
    "\n",
    "\n",
    "validation_generator = test_datagen.flow_from_directory(\n",
    "        './target/test_224/',\n",
    "        target_size=TARGET_SIZE,\n",
    "        batch_size=BATCHSIZE,\n",
    "        class_mode='categorical')"
   ]
  },
  {
   "cell_type": "code",
   "execution_count": 74,
   "metadata": {},
   "outputs": [],
   "source": [
    "#generate labels indicating disease (1) or normal (0)\n",
    "label=validation_generator.class_indices\n",
    "label={v: k for k, v in label.items()}"
   ]
  },
  {
   "cell_type": "code",
   "execution_count": 75,
   "metadata": {},
   "outputs": [
    {
     "name": "stdout",
     "output_type": "stream",
     "text": [
      "{0: '0', 1: '1'}\n"
     ]
    }
   ],
   "source": [
    "print(label)"
   ]
  },
  {
   "cell_type": "code",
   "execution_count": 76,
   "metadata": {},
   "outputs": [
    {
     "name": "stdout",
     "output_type": "stream",
     "text": [
      "0 ./target/test_224/0/28924.png\n"
     ]
    }
   ],
   "source": [
    "#read images from validation folder\n",
    "rootdir = './target/test_224/'\n",
    "test_laels = []\n",
    "test_images=[]\n",
    "for subdir, dirs, files in os.walk(rootdir):\n",
    "    for file in files:\n",
    "        if not (file.endswith(\".jpeg\"))|(file.endswith(\".jpg\"))|(file.endswith(\".png\")):\n",
    "            continue\n",
    "        test_laels.append(subdir.split('/')[-1])\n",
    "        test_images.append(os.path.join(subdir, file))\n",
    "        \n",
    "print(test_laels[3],test_images[0])"
   ]
  },
  {
   "cell_type": "code",
   "execution_count": 78,
   "metadata": {},
   "outputs": [
    {
     "data": {
      "text/plain": [
       "{'0', '1'}"
      ]
     },
     "execution_count": 78,
     "metadata": {},
     "output_type": "execute_result"
    }
   ],
   "source": [
    "set(list(test_laels))"
   ]
  },
  {
   "cell_type": "markdown",
   "metadata": {},
   "source": [
    "## Load  trained models (CNN & LSTM)"
   ]
  },
  {
   "cell_type": "code",
   "execution_count": 79,
   "metadata": {},
   "outputs": [],
   "source": [
    "#load model 3: Hybrid\n",
    "hybrid_scratch_model=load_model('source_cnn_lstm_hybrid_final_model.h5')"
   ]
  },
  {
   "cell_type": "code",
   "execution_count": null,
   "metadata": {},
   "outputs": [],
   "source": []
  },
  {
   "cell_type": "markdown",
   "metadata": {},
   "source": [
    "# Concatenation"
   ]
  },
  {
   "cell_type": "code",
   "execution_count": 80,
   "metadata": {},
   "outputs": [
    {
     "name": "stdout",
     "output_type": "stream",
     "text": [
      "0 input_2\n",
      "1 conv2d_2\n",
      "2 max_pooling2d_1\n",
      "3 conv2d_3\n",
      "4 dropout_2\n",
      "5 global_average_pooling2d_1\n",
      "6 reshape_1\n",
      "7 lstm_1\n",
      "8 dropout_3\n",
      "9 dense_1\n"
     ]
    }
   ],
   "source": [
    "for i,layer in enumerate(hybrid_scratch_model.layers):\n",
    "    print(i,layer.name)"
   ]
  },
  {
   "cell_type": "markdown",
   "metadata": {},
   "source": [
    "### Construct the ensemble model using the last \"dense layer\" of each base CNN model"
   ]
  },
  {
   "cell_type": "code",
   "execution_count": 81,
   "metadata": {},
   "outputs": [],
   "source": [
    "model1=Model(inputs=[hybrid_scratch_model.layers[0].get_input_at(0)],outputs=hybrid_scratch_model.get_layer('dense_1').output,name='hybrid_model')"
   ]
  },
  {
   "cell_type": "code",
   "execution_count": 82,
   "metadata": {},
   "outputs": [],
   "source": [
    "#plot the figures\n",
    "class LossHistory(keras.callbacks.Callback):\n",
    "    def on_train_begin(self, logs={}):\n",
    "        self.losses = {'batch':[], 'epoch':[]}\n",
    "        self.accuracy = {'batch':[], 'epoch':[]}\n",
    "        self.val_loss = {'batch':[], 'epoch':[]}\n",
    "        self.val_acc = {'batch':[], 'epoch':[]}\n",
    "    def on_batch_end(self, batch, logs={}):\n",
    "        self.losses['batch'].append(logs.get('loss'))\n",
    "        self.accuracy['batch'].append(logs.get('acc'))\n",
    "        self.val_loss['batch'].append(logs.get('val_loss'))\n",
    "        self.val_acc['batch'].append(logs.get('val_acc'))\n",
    "    def on_epoch_end(self, batch, logs={}):\n",
    "        self.losses['epoch'].append(logs.get('loss'))\n",
    "        self.accuracy['epoch'].append(logs.get('acc'))\n",
    "        self.val_loss['epoch'].append(logs.get('val_loss'))\n",
    "        self.val_acc['epoch'].append(logs.get('val_acc'))\n",
    "    def loss_plot(self, loss_type):\n",
    "        iters = range(len(self.losses[loss_type]))\n",
    "        plt.figure()\n",
    "        plt.plot(iters, self.losses[loss_type], 'g', label='train loss')\n",
    "        if loss_type == 'epoch':\n",
    "            # acc\n",
    "            plt.plot(iters, self.accuracy[loss_type], 'r', label='train acc')\n",
    "            # loss\n",
    "            plt.plot(iters, self.losses[loss_type], 'g', label='train loss')\n",
    "            # val_acc\n",
    "            plt.plot(iters, self.val_acc[loss_type], 'b', label='val acc')\n",
    "            # val_loss\n",
    "            plt.plot(iters, self.val_loss[loss_type], 'k', label='val loss')\n",
    "        plt.grid(True)\n",
    "        plt.xlabel(loss_type)\n",
    "        plt.ylabel('acc-loss')\n",
    "        plt.legend(loc=\"upper right\")\n",
    "        plt.show()"
   ]
  },
  {
   "cell_type": "code",
   "execution_count": 83,
   "metadata": {},
   "outputs": [],
   "source": [
    "ensemble_history= LossHistory()"
   ]
  },
  {
   "cell_type": "code",
   "execution_count": 84,
   "metadata": {},
   "outputs": [
    {
     "name": "stdout",
     "output_type": "stream",
     "text": [
      "Found 1205 images belonging to 2 classes.\n",
      "Found 304 images belonging to 2 classes.\n"
     ]
    }
   ],
   "source": [
    "#generate training and test images\n",
    "TARGET_SIZE=(224,224)\n",
    "INPUT_SIZE=(224,224,3)\n",
    "BATCHSIZE=128\t#could try 128 or 32\n",
    "\n",
    "#Normalization\n",
    "train_datagen = ImageDataGenerator(rescale=1./255)\n",
    "\n",
    "test_datagen = ImageDataGenerator(rescale=1./255)\n",
    "\n",
    "train_generator = train_datagen.flow_from_directory(\n",
    "        './target/train_224/',\n",
    "        target_size=TARGET_SIZE,\n",
    "        batch_size=BATCHSIZE,\n",
    "        class_mode='categorical')\n",
    "validation_generator = test_datagen.flow_from_directory(\n",
    "        './target/test_224/',\n",
    "        target_size=TARGET_SIZE,\n",
    "        batch_size=BATCHSIZE,\n",
    "        class_mode='categorical')"
   ]
  },
  {
   "cell_type": "code",
   "execution_count": 85,
   "metadata": {},
   "outputs": [],
   "source": [
    "def lr_decay(epoch):\n",
    "    lrs = [0.001, 0.001, 0.001, 0.001, 0.001, 0.001, 0.001, 0.0001,0.00001,0.000001,\n",
    "           0.000001,0.000001,0.000001,0.000001,0.0000001,0.0000001,0.0000001,0.0000001,0.0000001,0.0000001\n",
    "          ]\n",
    "    return lrs[epoch]"
   ]
  },
  {
   "cell_type": "code",
   "execution_count": 86,
   "metadata": {},
   "outputs": [
    {
     "name": "stdout",
     "output_type": "stream",
     "text": [
      "WARNING:tensorflow:`epsilon` argument is deprecated and will be removed, use `min_delta` instead.\n"
     ]
    },
    {
     "name": "stderr",
     "output_type": "stream",
     "text": [
      "WARNING:tensorflow:`epsilon` argument is deprecated and will be removed, use `min_delta` instead.\n"
     ]
    }
   ],
   "source": [
    "auto_lr = ReduceLROnPlateau(monitor='val_loss', factor=0.1, patience=1, verbose=0, mode='auto', epsilon=0.0001, cooldown=0, min_lr=0)\n",
    "my_lr = LearningRateScheduler(lr_decay)"
   ]
  },
  {
   "cell_type": "code",
   "execution_count": 87,
   "metadata": {},
   "outputs": [],
   "source": [
    "def ensemble(num_class,epochs):\n",
    "    img=Input(shape=(224,224,3),name='img')\n",
    "    feature1=model1(img)\n",
    "#     x=concatenate([feature1])\n",
    "    x=feature1\n",
    "    x=Dropout(0.5)(x)\n",
    "    x=Dense(64,activation='relu')(x)\n",
    "    x=Dropout(0.5)(x)\n",
    "    output=Dense(num_class,activation='softmax',name='output')(x)\n",
    "    model=Model(inputs=img,outputs=output)\n",
    "    opt = keras.optimizers.Adam(lr=0.001, beta_1=0.9, beta_2=0.999, epsilon=1e-08)\n",
    "    model.compile(loss='categorical_crossentropy',\n",
    "                  optimizer=opt,\n",
    "                  metrics=['accuracy'])\n",
    "    #train model\n",
    "    earlyStopping=kcallbacks.EarlyStopping(monitor='val_loss',patience=1, verbose=1, mode='auto')\n",
    "    saveBestModel = kcallbacks.ModelCheckpoint(filepath='./model', monitor='val_accuracy', verbose=1, save_best_only=True, mode='auto')\n",
    "    ensemble_hist=model.fit_generator(\n",
    "        train_generator,\n",
    "        steps_per_epoch=len(train_generator),\n",
    "        epochs=epochs,\n",
    "        validation_data=validation_generator,\n",
    "        validation_steps=len(validation_generator),\n",
    "        callbacks=[earlyStopping,saveBestModel,ensemble_history,auto_lr],\n",
    "\n",
    "    )\n",
    "    model.save(\"more_try_percentage_target_ensemble_transfer_learning_implemented.h5\")\n",
    "    return ensemble_hist\n"
   ]
  },
  {
   "cell_type": "code",
   "execution_count": 88,
   "metadata": {
    "scrolled": false
   },
   "outputs": [
    {
     "name": "stdout",
     "output_type": "stream",
     "text": [
      "Epoch 1/10\n",
      "10/10 [==============================] - ETA: 0s - loss: 0.6516 - accuracy: 0.7793\n",
      "Epoch 1: val_accuracy improved from -inf to 0.84211, saving model to ./model\n"
     ]
    },
    {
     "name": "stderr",
     "output_type": "stream",
     "text": [
      "WARNING:absl:Found untraced functions such as _jit_compiled_convolution_op, _jit_compiled_convolution_op while saving (showing 2 of 2). These functions will not be directly callable after loading.\n"
     ]
    },
    {
     "name": "stdout",
     "output_type": "stream",
     "text": [
      "INFO:tensorflow:Assets written to: ./model/assets\n"
     ]
    },
    {
     "name": "stderr",
     "output_type": "stream",
     "text": [
      "INFO:tensorflow:Assets written to: ./model/assets\n"
     ]
    },
    {
     "name": "stdout",
     "output_type": "stream",
     "text": [
      "10/10 [==============================] - 41s 4s/step - loss: 0.6516 - accuracy: 0.7793 - val_loss: 0.5958 - val_accuracy: 0.8421 - lr: 0.0010\n",
      "Epoch 2/10\n",
      "10/10 [==============================] - ETA: 0s - loss: 0.5727 - accuracy: 0.8556\n",
      "Epoch 2: val_accuracy did not improve from 0.84211\n",
      "10/10 [==============================] - 39s 4s/step - loss: 0.5727 - accuracy: 0.8556 - val_loss: 0.5020 - val_accuracy: 0.8421 - lr: 0.0010\n",
      "Epoch 3/10\n",
      "10/10 [==============================] - ETA: 0s - loss: 0.4936 - accuracy: 0.8954\n",
      "Epoch 3: val_accuracy improved from 0.84211 to 0.98355, saving model to ./model\n"
     ]
    },
    {
     "name": "stderr",
     "output_type": "stream",
     "text": [
      "WARNING:absl:Found untraced functions such as _jit_compiled_convolution_op, _jit_compiled_convolution_op while saving (showing 2 of 2). These functions will not be directly callable after loading.\n"
     ]
    },
    {
     "name": "stdout",
     "output_type": "stream",
     "text": [
      "INFO:tensorflow:Assets written to: ./model/assets\n"
     ]
    },
    {
     "name": "stderr",
     "output_type": "stream",
     "text": [
      "INFO:tensorflow:Assets written to: ./model/assets\n"
     ]
    },
    {
     "name": "stdout",
     "output_type": "stream",
     "text": [
      "10/10 [==============================] - 42s 4s/step - loss: 0.4936 - accuracy: 0.8954 - val_loss: 0.4323 - val_accuracy: 0.9836 - lr: 0.0010\n",
      "Epoch 4/10\n",
      "10/10 [==============================] - ETA: 0s - loss: 0.4362 - accuracy: 0.9245\n",
      "Epoch 4: val_accuracy did not improve from 0.98355\n",
      "10/10 [==============================] - 44s 4s/step - loss: 0.4362 - accuracy: 0.9245 - val_loss: 0.3770 - val_accuracy: 0.9836 - lr: 0.0010\n",
      "Epoch 5/10\n",
      "10/10 [==============================] - ETA: 0s - loss: 0.3935 - accuracy: 0.9195\n",
      "Epoch 5: val_accuracy did not improve from 0.98355\n",
      "10/10 [==============================] - 45s 5s/step - loss: 0.3935 - accuracy: 0.9195 - val_loss: 0.3326 - val_accuracy: 0.9836 - lr: 0.0010\n",
      "Epoch 6/10\n",
      "10/10 [==============================] - ETA: 0s - loss: 0.3611 - accuracy: 0.9145\n",
      "Epoch 6: val_accuracy did not improve from 0.98355\n",
      "10/10 [==============================] - 45s 5s/step - loss: 0.3611 - accuracy: 0.9145 - val_loss: 0.2982 - val_accuracy: 0.9836 - lr: 0.0010\n",
      "Epoch 7/10\n",
      "10/10 [==============================] - ETA: 0s - loss: 0.3335 - accuracy: 0.9178\n",
      "Epoch 7: val_accuracy did not improve from 0.98355\n",
      "10/10 [==============================] - 45s 5s/step - loss: 0.3335 - accuracy: 0.9178 - val_loss: 0.2711 - val_accuracy: 0.9836 - lr: 0.0010\n",
      "Epoch 8/10\n",
      "10/10 [==============================] - ETA: 0s - loss: 0.3017 - accuracy: 0.9328\n",
      "Epoch 8: val_accuracy did not improve from 0.98355\n",
      "10/10 [==============================] - 47s 5s/step - loss: 0.3017 - accuracy: 0.9328 - val_loss: 0.2484 - val_accuracy: 0.9836 - lr: 0.0010\n",
      "Epoch 9/10\n",
      "10/10 [==============================] - ETA: 0s - loss: 0.2868 - accuracy: 0.9320\n",
      "Epoch 9: val_accuracy did not improve from 0.98355\n",
      "10/10 [==============================] - 46s 5s/step - loss: 0.2868 - accuracy: 0.9320 - val_loss: 0.2221 - val_accuracy: 0.9836 - lr: 0.0010\n",
      "Epoch 10/10\n",
      "10/10 [==============================] - ETA: 0s - loss: 0.2761 - accuracy: 0.9320\n",
      "Epoch 10: val_accuracy did not improve from 0.98355\n",
      "10/10 [==============================] - 46s 5s/step - loss: 0.2761 - accuracy: 0.9320 - val_loss: 0.2151 - val_accuracy: 0.9836 - lr: 0.0010\n"
     ]
    }
   ],
   "source": [
    "ensemble_hist=ensemble(num_class=2,epochs=10)"
   ]
  },
  {
   "cell_type": "code",
   "execution_count": 89,
   "metadata": {},
   "outputs": [
    {
     "name": "stdout",
     "output_type": "stream",
     "text": [
      "Accucacy: 93.2 %\n",
      "Loss: 27.61 %\n",
      "Val_Accucacy: 98.36 %\n",
      "Val_Loss: 21.51 %\n"
     ]
    }
   ],
   "source": [
    "hybrid_accuracy_t = ensemble_hist.history['accuracy'][-1]\n",
    "hybrid_loss_t = ensemble_hist.history['loss'][-1]\n",
    "hybrid_val_accuracy_t=  ensemble_hist.history['val_accuracy'][-1]\n",
    "hybrid_val_loss_t = ensemble_hist.history['val_loss'][-1]\n",
    "print(\"Accucacy:\",round((hybrid_accuracy_t * 100),2),\"%\")\n",
    "print(\"Loss:\",round((hybrid_loss_t * 100),2),\"%\")\n",
    "print(\"Val_Accucacy:\",round((hybrid_val_accuracy_t * 100),2),\"%\")\n",
    "print(\"Val_Loss:\",round((hybrid_val_loss_t * 100),2),\"%\")"
   ]
  },
  {
   "cell_type": "code",
   "execution_count": 90,
   "metadata": {},
   "outputs": [
    {
     "data": {
      "image/png": "[encoded data removed]",
      "text/plain": [
       "<Figure size 864x576 with 1 Axes>"
      ]
     },
     "metadata": {
      "needs_background": "light"
     },
     "output_type": "display_data"
    }
   ],
   "source": [
    "# Train and validation accuracy - loss\n",
    "plt.figure(figsize=(12,8))\n",
    "plt.plot(ensemble_hist.history['accuracy'])\n",
    "plt.plot(ensemble_hist.history['val_accuracy'])\n",
    "plt.plot(ensemble_hist.history['loss'])\n",
    "plt.plot(ensemble_hist.history['val_loss'])\n",
    "plt.title('Hybrid Model accuracy and Loss')\n",
    "plt.ylabel('Accuracy - Loss')\n",
    "plt.xlabel('Epoch')\n",
    "plt.legend(['accuracy', 'val_accuracy','loss', 'val_loss'])\n",
    "plt.show()"
   ]
  },
  {
   "cell_type": "code",
   "execution_count": null,
   "metadata": {},
   "outputs": [],
   "source": []
  },
  {
   "cell_type": "code",
   "execution_count": 50,
   "metadata": {},
   "outputs": [],
   "source": [
    "ensemble_model=load_model('more_try_percentage_target_ensemble_transfer_learning_implemented.h5')"
   ]
  },
  {
   "cell_type": "code",
   "execution_count": 51,
   "metadata": {},
   "outputs": [
    {
     "name": "stdout",
     "output_type": "stream",
     "text": [
      "0 ./target/test_224/0/28924.png\n"
     ]
    }
   ],
   "source": [
    "#read images from validation folder\n",
    "rootdir = './target/test_224/'\n",
    "test_laels = []\n",
    "test_images=[]\n",
    "for subdir, dirs, files in os.walk(rootdir):\n",
    "    for file in files:\n",
    "        if not (file.endswith(\".jpeg\"))|(file.endswith(\".jpg\"))|(file.endswith(\".png\")):\n",
    "            continue\n",
    "        test_laels.append(subdir.split('/')[-1])\n",
    "        test_images.append(os.path.join(subdir, file))\n",
    "        \n",
    "print(test_laels[0],test_images[0])"
   ]
  },
  {
   "cell_type": "code",
   "execution_count": null,
   "metadata": {},
   "outputs": [],
   "source": []
  },
  {
   "cell_type": "code",
   "execution_count": 52,
   "metadata": {},
   "outputs": [
    {
     "name": "stdout",
     "output_type": "stream",
     "text": [
      "4/4 [==============================] - 1s 217ms/step\n",
      "4/4 [==============================] - 1s 212ms/step\n",
      "2/2 [==============================] - 0s 128ms/step\n",
      "The testing time is :3.150831 seconds\n"
     ]
    }
   ],
   "source": [
    "#test the averaging model on the validation set\n",
    "import time\n",
    "predict=[]\n",
    "length=len(test_images)\n",
    "t1 = time.time()\n",
    "for i in range((length//127)+1):\n",
    "    inputimg=test_images[127*i:127*(i+1)]\n",
    "    test_batch=[]\n",
    "    for path in inputimg:\n",
    "        thisimg=np.array(Image.open(path))/255\n",
    "        test_batch.append(thisimg)\n",
    "    #print(i, np.array(test_batch).shape)\n",
    "    ensemble_model_batch=ensemble_model.predict(np.array(test_batch))\n",
    "    predict_batch=list(np.argmax(ensemble_model_batch,axis=1))\n",
    "    predict_batch=[label[con] for con in predict_batch]\n",
    "    predict.append(predict_batch)\n",
    "\n",
    "predict=sum(predict,[])\n",
    "\n",
    "t2 = time.time()\n",
    "print('The testing time is :%f seconds' % (t2-t1))"
   ]
  },
  {
   "cell_type": "code",
   "execution_count": 53,
   "metadata": {},
   "outputs": [
    {
     "name": "stdout",
     "output_type": "stream",
     "text": [
      "After Transfered Learning accuracy:0.9835526315789473\n"
     ]
    }
   ],
   "source": [
    "from sklearn.metrics import accuracy_score,precision_score,recall_score,f1_score\n",
    "acc=accuracy_score(test_laels,predict)\n",
    "print('After Transfered Learning accuracy:%s'%acc)"
   ]
  },
  {
   "cell_type": "code",
   "execution_count": 54,
   "metadata": {},
   "outputs": [
    {
     "name": "stdout",
     "output_type": "stream",
     "text": [
      "Hybrid TF target model accuracy: 0.9835526315789473\n",
      "precision: 0.9838677152651742\n",
      "recall: 0.9835526315789473\n",
      "f1: 0.9831803135274579\n",
      "[[256   0]\n",
      " [  5  43]]\n",
      "              precision    recall  f1-score   support\n",
      "\n",
      "           0       0.98      1.00      0.99       256\n",
      "           1       1.00      0.90      0.95        48\n",
      "\n",
      "    accuracy                           0.98       304\n",
      "   macro avg       0.99      0.95      0.97       304\n",
      "weighted avg       0.98      0.98      0.98       304\n",
      "\n"
     ]
    }
   ],
   "source": [
    "from sklearn.metrics import accuracy_score,precision_score,recall_score,f1_score\n",
    "acc=accuracy_score(test_laels,predict)\n",
    "pre=precision_score(test_laels,predict,average='weighted')\n",
    "re=recall_score(test_laels,predict,average='weighted')\n",
    "f1=f1_score(test_laels,predict,average='weighted')\n",
    "print('Hybrid TF target model accuracy: %s'%acc)\n",
    "print('precision: %s'%pre)\n",
    "print('recall: %s'%re)\n",
    "print('f1: %s'%f1)\n",
    "from sklearn.metrics import classification_report, confusion_matrix\n",
    "print(confusion_matrix(test_laels, predict))\n",
    "target_names = ['0', '1']\n",
    "print(classification_report(test_laels, predict, target_names=target_names))"
   ]
  },
  {
   "cell_type": "code",
   "execution_count": null,
   "metadata": {},
   "outputs": [],
   "source": []
  },
  {
   "cell_type": "code",
   "execution_count": 55,
   "metadata": {},
   "outputs": [
    {
     "data": {
      "text/plain": [
       "Text(0.5, 1.0, 'Confusion matrix of hybrid model of TF by Concatenation ')"
      ]
     },
     "execution_count": 55,
     "metadata": {},
     "output_type": "execute_result"
    },
    {
     "data": {
      "image/png": "[encoded data removed]",
      "text/plain": [
       "<Figure size 720x504 with 2 Axes>"
      ]
     },
     "metadata": {
      "needs_background": "light"
     },
     "output_type": "display_data"
    }
   ],
   "source": [
    "plt.figure(figsize=(10,7))\n",
    "cf_matrix = confusion_matrix(test_laels, predict)\n",
    "cf_matrix = cf_matrix.astype('float') / cf_matrix.sum(axis=1)[:, np.newaxis]\n",
    "ax = sns.heatmap(cf_matrix, annot=True, cmap='Blues', fmt='.3f')\n",
    "ax.set_title(\"Confusion matrix of hybrid model of TF by Concatenation \")\n",
    "ax.set_xlabel(\"Predicted label\")\n",
    "ax.set_ylabel(\"True label\")"
   ]
  },
  {
   "cell_type": "code",
   "execution_count": null,
   "metadata": {},
   "outputs": [],
   "source": []
  },
  {
   "cell_type": "markdown",
   "metadata": {},
   "source": [
    "# Roc Curve"
   ]
  },
  {
   "cell_type": "code",
   "execution_count": null,
   "metadata": {},
   "outputs": [],
   "source": [
    "y_pred = predict  # predicted probabilities for each class\n",
    "y_true = test_laels  # true labels for the test data"
   ]
  },
  {
   "cell_type": "code",
   "execution_count": null,
   "metadata": {},
   "outputs": [],
   "source": [
    "from sklearn.metrics import roc_curve, auc\n",
    "import matplotlib.pyplot as plt\n",
    "\n",
    "# convert y_true and y_predicted to binary arrays\n",
    "y_true_binary = [int(label) > 0 for label in y_true]\n",
    "y_predicted_binary = [int(label) > 0 for label in y_pred]\n",
    "\n",
    "# calculate TPR and FPR\n",
    "fpr, tpr, thresholds = roc_curve(y_true_binary, y_predicted_binary)\n",
    "\n",
    "# calculate AUC\n",
    "roc_auc = auc(fpr, tpr)\n",
    "\n",
    "# plot ROC curve\n",
    "plt.figure(figsize=(12,8))\n",
    "plt.plot(fpr, tpr, label=f'AUC = {roc_auc:.2f}')\n",
    "plt.plot([0, 1], [0, 1], linestyle='--', color='gray')\n",
    "plt.xlabel('False Positive Rate')\n",
    "plt.ylabel('True Positive Rate')\n",
    "plt.title('ROC Curve')\n",
    "plt.legend()\n",
    "plt.show()\n"
   ]
  },
  {
   "cell_type": "code",
   "execution_count": null,
   "metadata": {},
   "outputs": [],
   "source": []
  },
  {
   "cell_type": "markdown",
   "metadata": {},
   "source": [
    "# Box plot, Detection rate, False alarm rate"
   ]
  },
  {
   "cell_type": "code",
   "execution_count": null,
   "metadata": {},
   "outputs": [],
   "source": [
    "from keras.layers import Input, Dense, Dropout, GlobalAveragePooling2D, Reshape\n",
    "from keras.models import Model\n",
    "from keras.callbacks import EarlyStopping\n",
    "from keras.layers import Conv2D, MaxPooling2D, Flatten\n",
    "\n",
    "img=Input(shape=(224,224,3),name='img')\n",
    "feature1=model1(img)\n",
    "x=feature1\n",
    "x=Dropout(0.5)(x)\n",
    "x=Dense(64,activation='relu')(x)\n",
    "x=Dropout(0.5)(x)\n",
    "output=Dense(2,activation='softmax',name='output')(x)\n",
    "model=Model(inputs=img,outputs=output)\n",
    "opt = keras.optimizers.Adam(lr=0.001, beta_1=0.9, beta_2=0.999, epsilon=1e-08)\n",
    "model.compile(loss='categorical_crossentropy',\n",
    "              optimizer=opt,\n",
    "              metrics=['accuracy'])\n",
    "\n",
    "# Train the model\n",
    "normal_false_alarm_rate = []\n",
    "fuzzy_false_alarm_rate = []\n",
    "\n",
    "normal_detection_rate = []\n",
    "fuzzy_detection_rate = []\n",
    "for epoch in range(10):\n",
    "    model.fit(train_generator,steps_per_epoch=len(train_generator),\n",
    "              epochs=1,validation_data=validation_generator,\n",
    "              validation_steps=len(validation_generator),\n",
    "        )\n",
    "    predict=[]\n",
    "    length=len(test_images)\n",
    "    t1 = time.time()\n",
    "    for i in range(length):\n",
    "        inputimg=test_images[i]\n",
    "        test_batch=[]\n",
    "        thisimg=np.array(Image.open(inputimg))/255 #read all the images in validation set\n",
    "        #print(thisimg)\n",
    "        test_shape=(1,)+thisimg.shape\n",
    "        thisimg=thisimg.reshape(test_shape)\n",
    "        model_batch=model.predict(thisimg) #use master model to process the input image\n",
    "        #generate result by model 1\n",
    "        prob=model_batch[0,np.argmax(model_batch,axis=1)[0]]\n",
    "        res=label[np.argmax(model_batch,axis=1)[0]]\n",
    "        predict.append(res)\n",
    "        \n",
    "    cf_matrix = confusion_matrix(test_laels, predict)\n",
    "    tp_0 = cf_matrix[0][0]\n",
    "    tp_1 = cf_matrix[1][1]\n",
    "\n",
    "    target_names = ['0', '1']\n",
    "    report = classification_report(test_laels, predict, target_names=target_names)\n",
    "    df = pd.read_fwf(StringIO(report), index_col=0)\n",
    "    support_0 = df.iloc[0]['support']\n",
    "    support_1 = df.iloc[1]['support']\n",
    "\n",
    "    total_sum_of_diagonal = tp_0 + tp_1 \n",
    "    fa_r0 = support_0 - tp_0\n",
    "    fa_r1 = support_1 - tp_1\n",
    "\n",
    "\n",
    "    normal_false_alarm_rate.append(fa_r0 / (fa_r0 + total_sum_of_diagonal - tp_0))\n",
    "    fuzzy_false_alarm_rate.append(fa_r1 / (fa_r1 + total_sum_of_diagonal - tp_1))\n",
    "\n",
    "    normal_detection_rate.append(tp_0 / support_0)\n",
    "    fuzzy_detection_rate.append(tp_1 / support_1)\n"
   ]
  },
  {
   "cell_type": "code",
   "execution_count": null,
   "metadata": {},
   "outputs": [],
   "source": []
  },
  {
   "cell_type": "markdown",
   "metadata": {},
   "source": [
    "# Box plot for Hybrid TF model"
   ]
  },
  {
   "cell_type": "code",
   "execution_count": null,
   "metadata": {},
   "outputs": [],
   "source": [
    "import seaborn as sns\n",
    "import pandas as pd\n",
    "plt.figure(figsize=(12,8))\n",
    "# Sample detection rates for each class\n",
    "data = {'Normal':normal_detection_rate, 'fuzzy':fuzzy_detection_rate}\n",
    "df = pd.DataFrame(data)\n",
    "sns.boxplot(data=df)\n",
    "plt.title(\"Box Plot for the detection rate using HYBRID TF model \")\n",
    "plt.show()"
   ]
  },
  {
   "cell_type": "code",
   "execution_count": null,
   "metadata": {},
   "outputs": [],
   "source": []
  },
  {
   "cell_type": "markdown",
   "metadata": {},
   "source": [
    "# Detection rate vs Epochs of Hybrid TF model"
   ]
  },
  {
   "cell_type": "code",
   "execution_count": null,
   "metadata": {},
   "outputs": [],
   "source": [
    "import matplotlib.pyplot as plt\n",
    "plt.figure(figsize=(12,8))\n",
    "epochs_count = [i for i in range(1,len(fuzzy_detection_rate) + 1)]\n",
    "\n",
    "plt.plot(epochs_count, normal_detection_rate, label='Normal')\n",
    "plt.plot(epochs_count, fuzzy_detection_rate, label='fuzzy')\n",
    "\n",
    "plt.xlabel('Epochs')\n",
    "plt.ylabel('Detection Rate')\n",
    "plt.title(\"Detection rate vs Epochs of HYBRID TF model\")\n",
    "plt.legend()\n",
    "plt.show()"
   ]
  },
  {
   "cell_type": "code",
   "execution_count": null,
   "metadata": {},
   "outputs": [],
   "source": []
  },
  {
   "cell_type": "markdown",
   "metadata": {},
   "source": [
    "# False Alarm rate vs Epochs of Hybrid TF model"
   ]
  },
  {
   "cell_type": "code",
   "execution_count": null,
   "metadata": {},
   "outputs": [],
   "source": [
    "import matplotlib.pyplot as plt\n",
    "plt.figure(figsize=(12,8))\n",
    "epochs_count = [i for i in range(1,len(fuzzy_false_alarm_rate) + 1)]\n",
    "\n",
    "plt.plot(epochs_count, normal_detection_rate, label='Normal')\n",
    "plt.plot(epochs_count, fuzzy_false_alarm_rate, label='fuzzy')\n",
    "\n",
    "plt.xlabel('Epochs')\n",
    "plt.ylabel('False Alarm Rate')\n",
    "plt.title(\"False Alarm Rate vs Epochs of HYBRID TF model\")\n",
    "plt.legend()\n",
    "plt.show()"
   ]
  },
  {
   "cell_type": "code",
   "execution_count": null,
   "metadata": {},
   "outputs": [],
   "source": []
  }
 ],
 "metadata": {
  "anaconda-cloud": {},
  "kernelspec": {
   "display_name": "Python 3 (ipykernel)",
   "language": "python",
   "name": "python3"
  },
  "language_info": {
   "codemirror_mode": {
    "name": "ipython",
    "version": 3
   },
   "file_extension": ".py",
   "mimetype": "text/x-python",
   "name": "python",
   "nbconvert_exporter": "python",
   "pygments_lexer": "ipython3",
   "version": "3.9.12"
  }
 },
 "nbformat": 4,
 "nbformat_minor": 2
}
