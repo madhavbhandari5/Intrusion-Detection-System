{
 "cells": [
  {
   "cell_type": "markdown",
   "metadata": {
    "id": "IeS2rkdMVucS"
   },
   "source": [
    "## Import libraries"
   ]
  },
  {
   "cell_type": "code",
   "execution_count": 1,
   "metadata": {
    "id": "76xOtoViVucT"
   },
   "outputs": [
    {
     "name": "stderr",
     "output_type": "stream",
     "text": [
      "2023-03-07 22:01:51.776985: I tensorflow/core/platform/cpu_feature_guard.cc:193] This TensorFlow binary is optimized with oneAPI Deep Neural Network Library (oneDNN) to use the following CPU instructions in performance-critical operations:  AVX2 FMA\n",
      "To enable them in other operations, rebuild TensorFlow with the appropriate compiler flags.\n",
      "2023-03-07 22:01:52.625540: W tensorflow/compiler/xla/stream_executor/platform/default/dso_loader.cc:64] Could not load dynamic library 'libnvinfer.so.7'; dlerror: libnvinfer.so.7: cannot open shared object file: No such file or directory; LD_LIBRARY_PATH: /home/maddy/anaconda3/lib/python3.9/site-packages/cv2/../../lib64:\n",
      "2023-03-07 22:01:52.625638: W tensorflow/compiler/xla/stream_executor/platform/default/dso_loader.cc:64] Could not load dynamic library 'libnvinfer_plugin.so.7'; dlerror: libnvinfer_plugin.so.7: cannot open shared object file: No such file or directory; LD_LIBRARY_PATH: /home/maddy/anaconda3/lib/python3.9/site-packages/cv2/../../lib64:\n",
      "2023-03-07 22:01:52.625647: W tensorflow/compiler/tf2tensorrt/utils/py_utils.cc:38] TF-TRT Warning: Cannot dlopen some TensorRT libraries. If you would like to use Nvidia GPU with TensorRT, please make sure the missing libraries mentioned above are installed properly.\n"
     ]
    }
   ],
   "source": [
    "import numpy as np\n",
    "import pandas as pd\n",
    "import os\n",
    "import cv2\n",
    "import math\n",
    "import random\n",
    "import matplotlib.pyplot as plt\n",
    "import shutil\n",
    "from sklearn.preprocessing import QuantileTransformer\n",
    "from PIL import Image\n",
    "import warnings\n",
    "warnings.filterwarnings(\"ignore\")\n",
    "\n",
    "from keras.layers import LSTM, Dense, Dropout\n",
    "from keras.models import Sequential\n",
    "from keras.preprocessing.image import ImageDataGenerator\n",
    "from keras.utils import np_utils\n",
    "from keras.layers import Reshape"
   ]
  },
  {
   "cell_type": "code",
   "execution_count": 2,
   "metadata": {
    "id": "d-or3dRDVucU"
   },
   "outputs": [],
   "source": [
    "#Read dataset\n",
    "df=pd.read_csv('1_percentage_of_target_fuzzy_dataset.csv')"
   ]
  },
  {
   "cell_type": "code",
   "execution_count": 3,
   "metadata": {},
   "outputs": [
    {
     "data": {
      "text/html": [
       "<div>\n",
       "<style scoped>\n",
       "    .dataframe tbody tr th:only-of-type {\n",
       "        vertical-align: middle;\n",
       "    }\n",
       "\n",
       "    .dataframe tbody tr th {\n",
       "        vertical-align: top;\n",
       "    }\n",
       "\n",
       "    .dataframe thead th {\n",
       "        text-align: right;\n",
       "    }\n",
       "</style>\n",
       "<table border=\"1\" class=\"dataframe\">\n",
       "  <thead>\n",
       "    <tr style=\"text-align: right;\">\n",
       "      <th></th>\n",
       "      <th>CAN ID</th>\n",
       "      <th>DATA[0]</th>\n",
       "      <th>DATA[1]</th>\n",
       "      <th>DATA[2]</th>\n",
       "      <th>DATA[3]</th>\n",
       "      <th>DATA[4]</th>\n",
       "      <th>DATA[5]</th>\n",
       "      <th>DATA[6]</th>\n",
       "      <th>DATA[7]</th>\n",
       "      <th>Label</th>\n",
       "    </tr>\n",
       "  </thead>\n",
       "  <tbody>\n",
       "    <tr>\n",
       "      <th>37528</th>\n",
       "      <td>1087</td>\n",
       "      <td>1</td>\n",
       "      <td>69</td>\n",
       "      <td>96</td>\n",
       "      <td>255</td>\n",
       "      <td>107</td>\n",
       "      <td>0</td>\n",
       "      <td>0</td>\n",
       "      <td>0</td>\n",
       "      <td>gear</td>\n",
       "    </tr>\n",
       "    <tr>\n",
       "      <th>37529</th>\n",
       "      <td>1087</td>\n",
       "      <td>1</td>\n",
       "      <td>69</td>\n",
       "      <td>96</td>\n",
       "      <td>255</td>\n",
       "      <td>107</td>\n",
       "      <td>0</td>\n",
       "      <td>0</td>\n",
       "      <td>0</td>\n",
       "      <td>gear</td>\n",
       "    </tr>\n",
       "    <tr>\n",
       "      <th>37530</th>\n",
       "      <td>1087</td>\n",
       "      <td>1</td>\n",
       "      <td>69</td>\n",
       "      <td>96</td>\n",
       "      <td>255</td>\n",
       "      <td>107</td>\n",
       "      <td>0</td>\n",
       "      <td>0</td>\n",
       "      <td>0</td>\n",
       "      <td>gear</td>\n",
       "    </tr>\n",
       "    <tr>\n",
       "      <th>37531</th>\n",
       "      <td>1087</td>\n",
       "      <td>1</td>\n",
       "      <td>69</td>\n",
       "      <td>96</td>\n",
       "      <td>255</td>\n",
       "      <td>107</td>\n",
       "      <td>0</td>\n",
       "      <td>0</td>\n",
       "      <td>0</td>\n",
       "      <td>gear</td>\n",
       "    </tr>\n",
       "    <tr>\n",
       "      <th>37532</th>\n",
       "      <td>1087</td>\n",
       "      <td>1</td>\n",
       "      <td>69</td>\n",
       "      <td>96</td>\n",
       "      <td>255</td>\n",
       "      <td>107</td>\n",
       "      <td>0</td>\n",
       "      <td>0</td>\n",
       "      <td>0</td>\n",
       "      <td>gear</td>\n",
       "    </tr>\n",
       "    <tr>\n",
       "      <th>...</th>\n",
       "      <td>...</td>\n",
       "      <td>...</td>\n",
       "      <td>...</td>\n",
       "      <td>...</td>\n",
       "      <td>...</td>\n",
       "      <td>...</td>\n",
       "      <td>...</td>\n",
       "      <td>...</td>\n",
       "      <td>...</td>\n",
       "      <td>...</td>\n",
       "    </tr>\n",
       "    <tr>\n",
       "      <th>37643</th>\n",
       "      <td>1087</td>\n",
       "      <td>1</td>\n",
       "      <td>69</td>\n",
       "      <td>96</td>\n",
       "      <td>255</td>\n",
       "      <td>107</td>\n",
       "      <td>0</td>\n",
       "      <td>0</td>\n",
       "      <td>0</td>\n",
       "      <td>gear</td>\n",
       "    </tr>\n",
       "    <tr>\n",
       "      <th>37644</th>\n",
       "      <td>1087</td>\n",
       "      <td>1</td>\n",
       "      <td>69</td>\n",
       "      <td>96</td>\n",
       "      <td>255</td>\n",
       "      <td>107</td>\n",
       "      <td>0</td>\n",
       "      <td>0</td>\n",
       "      <td>0</td>\n",
       "      <td>gear</td>\n",
       "    </tr>\n",
       "    <tr>\n",
       "      <th>37645</th>\n",
       "      <td>1087</td>\n",
       "      <td>1</td>\n",
       "      <td>69</td>\n",
       "      <td>96</td>\n",
       "      <td>255</td>\n",
       "      <td>107</td>\n",
       "      <td>0</td>\n",
       "      <td>0</td>\n",
       "      <td>0</td>\n",
       "      <td>gear</td>\n",
       "    </tr>\n",
       "    <tr>\n",
       "      <th>37646</th>\n",
       "      <td>1087</td>\n",
       "      <td>1</td>\n",
       "      <td>69</td>\n",
       "      <td>96</td>\n",
       "      <td>255</td>\n",
       "      <td>107</td>\n",
       "      <td>0</td>\n",
       "      <td>0</td>\n",
       "      <td>0</td>\n",
       "      <td>gear</td>\n",
       "    </tr>\n",
       "    <tr>\n",
       "      <th>37647</th>\n",
       "      <td>1087</td>\n",
       "      <td>1</td>\n",
       "      <td>69</td>\n",
       "      <td>96</td>\n",
       "      <td>255</td>\n",
       "      <td>107</td>\n",
       "      <td>0</td>\n",
       "      <td>0</td>\n",
       "      <td>0</td>\n",
       "      <td>gear</td>\n",
       "    </tr>\n",
       "  </tbody>\n",
       "</table>\n",
       "<p>120 rows × 10 columns</p>\n",
       "</div>"
      ],
      "text/plain": [
       "       CAN ID  DATA[0]  DATA[1]  DATA[2]  DATA[3]  DATA[4]  DATA[5]  DATA[6]  \\\n",
       "37528    1087        1       69       96      255      107        0        0   \n",
       "37529    1087        1       69       96      255      107        0        0   \n",
       "37530    1087        1       69       96      255      107        0        0   \n",
       "37531    1087        1       69       96      255      107        0        0   \n",
       "37532    1087        1       69       96      255      107        0        0   \n",
       "...       ...      ...      ...      ...      ...      ...      ...      ...   \n",
       "37643    1087        1       69       96      255      107        0        0   \n",
       "37644    1087        1       69       96      255      107        0        0   \n",
       "37645    1087        1       69       96      255      107        0        0   \n",
       "37646    1087        1       69       96      255      107        0        0   \n",
       "37647    1087        1       69       96      255      107        0        0   \n",
       "\n",
       "       DATA[7] Label  \n",
       "37528        0  gear  \n",
       "37529        0  gear  \n",
       "37530        0  gear  \n",
       "37531        0  gear  \n",
       "37532        0  gear  \n",
       "...        ...   ...  \n",
       "37643        0  gear  \n",
       "37644        0  gear  \n",
       "37645        0  gear  \n",
       "37646        0  gear  \n",
       "37647        0  gear  \n",
       "\n",
       "[120 rows x 10 columns]"
      ]
     },
     "execution_count": 3,
     "metadata": {},
     "output_type": "execute_result"
    }
   ],
   "source": [
    "df.tail(120)"
   ]
  },
  {
   "cell_type": "code",
   "execution_count": 4,
   "metadata": {},
   "outputs": [],
   "source": [
    "df = df.drop('CAN ID', axis=1)"
   ]
  },
  {
   "cell_type": "code",
   "execution_count": 5,
   "metadata": {},
   "outputs": [
    {
     "data": {
      "text/html": [
       "<div>\n",
       "<style scoped>\n",
       "    .dataframe tbody tr th:only-of-type {\n",
       "        vertical-align: middle;\n",
       "    }\n",
       "\n",
       "    .dataframe tbody tr th {\n",
       "        vertical-align: top;\n",
       "    }\n",
       "\n",
       "    .dataframe thead th {\n",
       "        text-align: right;\n",
       "    }\n",
       "</style>\n",
       "<table border=\"1\" class=\"dataframe\">\n",
       "  <thead>\n",
       "    <tr style=\"text-align: right;\">\n",
       "      <th></th>\n",
       "      <th>DATA[0]</th>\n",
       "      <th>DATA[1]</th>\n",
       "      <th>DATA[2]</th>\n",
       "      <th>DATA[3]</th>\n",
       "      <th>DATA[4]</th>\n",
       "      <th>DATA[5]</th>\n",
       "      <th>DATA[6]</th>\n",
       "      <th>DATA[7]</th>\n",
       "      <th>Label</th>\n",
       "    </tr>\n",
       "  </thead>\n",
       "  <tbody>\n",
       "    <tr>\n",
       "      <th>0</th>\n",
       "      <td>41</td>\n",
       "      <td>39</td>\n",
       "      <td>39</td>\n",
       "      <td>35</td>\n",
       "      <td>0</td>\n",
       "      <td>0</td>\n",
       "      <td>0</td>\n",
       "      <td>154</td>\n",
       "      <td>R</td>\n",
       "    </tr>\n",
       "    <tr>\n",
       "      <th>1</th>\n",
       "      <td>20</td>\n",
       "      <td>0</td>\n",
       "      <td>0</td>\n",
       "      <td>0</td>\n",
       "      <td>0</td>\n",
       "      <td>0</td>\n",
       "      <td>0</td>\n",
       "      <td>0</td>\n",
       "      <td>R</td>\n",
       "    </tr>\n",
       "    <tr>\n",
       "      <th>2</th>\n",
       "      <td>0</td>\n",
       "      <td>0</td>\n",
       "      <td>0</td>\n",
       "      <td>128</td>\n",
       "      <td>0</td>\n",
       "      <td>104</td>\n",
       "      <td>209</td>\n",
       "      <td>19</td>\n",
       "      <td>R</td>\n",
       "    </tr>\n",
       "    <tr>\n",
       "      <th>3</th>\n",
       "      <td>12</td>\n",
       "      <td>182</td>\n",
       "      <td>127</td>\n",
       "      <td>20</td>\n",
       "      <td>17</td>\n",
       "      <td>32</td>\n",
       "      <td>0</td>\n",
       "      <td>20</td>\n",
       "      <td>R</td>\n",
       "    </tr>\n",
       "    <tr>\n",
       "      <th>4</th>\n",
       "      <td>0</td>\n",
       "      <td>0</td>\n",
       "      <td>0</td>\n",
       "      <td>0</td>\n",
       "      <td>2</td>\n",
       "      <td>32</td>\n",
       "      <td>43</td>\n",
       "      <td>52</td>\n",
       "      <td>R</td>\n",
       "    </tr>\n",
       "    <tr>\n",
       "      <th>...</th>\n",
       "      <td>...</td>\n",
       "      <td>...</td>\n",
       "      <td>...</td>\n",
       "      <td>...</td>\n",
       "      <td>...</td>\n",
       "      <td>...</td>\n",
       "      <td>...</td>\n",
       "      <td>...</td>\n",
       "      <td>...</td>\n",
       "    </tr>\n",
       "    <tr>\n",
       "      <th>37643</th>\n",
       "      <td>1</td>\n",
       "      <td>69</td>\n",
       "      <td>96</td>\n",
       "      <td>255</td>\n",
       "      <td>107</td>\n",
       "      <td>0</td>\n",
       "      <td>0</td>\n",
       "      <td>0</td>\n",
       "      <td>gear</td>\n",
       "    </tr>\n",
       "    <tr>\n",
       "      <th>37644</th>\n",
       "      <td>1</td>\n",
       "      <td>69</td>\n",
       "      <td>96</td>\n",
       "      <td>255</td>\n",
       "      <td>107</td>\n",
       "      <td>0</td>\n",
       "      <td>0</td>\n",
       "      <td>0</td>\n",
       "      <td>gear</td>\n",
       "    </tr>\n",
       "    <tr>\n",
       "      <th>37645</th>\n",
       "      <td>1</td>\n",
       "      <td>69</td>\n",
       "      <td>96</td>\n",
       "      <td>255</td>\n",
       "      <td>107</td>\n",
       "      <td>0</td>\n",
       "      <td>0</td>\n",
       "      <td>0</td>\n",
       "      <td>gear</td>\n",
       "    </tr>\n",
       "    <tr>\n",
       "      <th>37646</th>\n",
       "      <td>1</td>\n",
       "      <td>69</td>\n",
       "      <td>96</td>\n",
       "      <td>255</td>\n",
       "      <td>107</td>\n",
       "      <td>0</td>\n",
       "      <td>0</td>\n",
       "      <td>0</td>\n",
       "      <td>gear</td>\n",
       "    </tr>\n",
       "    <tr>\n",
       "      <th>37647</th>\n",
       "      <td>1</td>\n",
       "      <td>69</td>\n",
       "      <td>96</td>\n",
       "      <td>255</td>\n",
       "      <td>107</td>\n",
       "      <td>0</td>\n",
       "      <td>0</td>\n",
       "      <td>0</td>\n",
       "      <td>gear</td>\n",
       "    </tr>\n",
       "  </tbody>\n",
       "</table>\n",
       "<p>37648 rows × 9 columns</p>\n",
       "</div>"
      ],
      "text/plain": [
       "       DATA[0]  DATA[1]  DATA[2]  DATA[3]  DATA[4]  DATA[5]  DATA[6]  DATA[7]  \\\n",
       "0           41       39       39       35        0        0        0      154   \n",
       "1           20        0        0        0        0        0        0        0   \n",
       "2            0        0        0      128        0      104      209       19   \n",
       "3           12      182      127       20       17       32        0       20   \n",
       "4            0        0        0        0        2       32       43       52   \n",
       "...        ...      ...      ...      ...      ...      ...      ...      ...   \n",
       "37643        1       69       96      255      107        0        0        0   \n",
       "37644        1       69       96      255      107        0        0        0   \n",
       "37645        1       69       96      255      107        0        0        0   \n",
       "37646        1       69       96      255      107        0        0        0   \n",
       "37647        1       69       96      255      107        0        0        0   \n",
       "\n",
       "      Label  \n",
       "0         R  \n",
       "1         R  \n",
       "2         R  \n",
       "3         R  \n",
       "4         R  \n",
       "...     ...  \n",
       "37643  gear  \n",
       "37644  gear  \n",
       "37645  gear  \n",
       "37646  gear  \n",
       "37647  gear  \n",
       "\n",
       "[37648 rows x 9 columns]"
      ]
     },
     "execution_count": 5,
     "metadata": {},
     "output_type": "execute_result"
    }
   ],
   "source": [
    "df"
   ]
  },
  {
   "cell_type": "code",
   "execution_count": 6,
   "metadata": {
    "colab": {
     "base_uri": "https://localhost:8080/"
    },
    "id": "d2rJ4VksVucV",
    "outputId": "284654b2-b0ed-44ec-8293-6215b8591e27"
   },
   "outputs": [
    {
     "data": {
      "text/plain": [
       "R        32520\n",
       "Fuzzy     4978\n",
       "gear       150\n",
       "Name: Label, dtype: int64"
      ]
     },
     "execution_count": 6,
     "metadata": {},
     "output_type": "execute_result"
    }
   ],
   "source": [
    "# The labels of the dataset. \"R\" indicates normal patterns, and there are four types of attack (DoS, fuzzy. gear spoofing, and RPM spoofing zttacks)\n",
    "df.Label.value_counts()"
   ]
  },
  {
   "cell_type": "code",
   "execution_count": 7,
   "metadata": {
    "id": "J_sHg8-dVucW"
   },
   "outputs": [],
   "source": [
    "# Transform all features into the scale of [0,1]\n",
    "numeric_features = df.dtypes[df.dtypes != 'object'].index\n",
    "scaler = QuantileTransformer() \n",
    "df[numeric_features] = scaler.fit_transform(df[numeric_features])"
   ]
  },
  {
   "cell_type": "code",
   "execution_count": 8,
   "metadata": {},
   "outputs": [
    {
     "data": {
      "text/html": [
       "<div>\n",
       "<style scoped>\n",
       "    .dataframe tbody tr th:only-of-type {\n",
       "        vertical-align: middle;\n",
       "    }\n",
       "\n",
       "    .dataframe tbody tr th {\n",
       "        vertical-align: top;\n",
       "    }\n",
       "\n",
       "    .dataframe thead th {\n",
       "        text-align: right;\n",
       "    }\n",
       "</style>\n",
       "<table border=\"1\" class=\"dataframe\">\n",
       "  <thead>\n",
       "    <tr style=\"text-align: right;\">\n",
       "      <th></th>\n",
       "      <th>DATA[0]</th>\n",
       "      <th>DATA[1]</th>\n",
       "      <th>DATA[2]</th>\n",
       "      <th>DATA[3]</th>\n",
       "      <th>DATA[4]</th>\n",
       "      <th>DATA[5]</th>\n",
       "      <th>DATA[6]</th>\n",
       "      <th>DATA[7]</th>\n",
       "      <th>Label</th>\n",
       "    </tr>\n",
       "  </thead>\n",
       "  <tbody>\n",
       "    <tr>\n",
       "      <th>0</th>\n",
       "      <td>0.644645</td>\n",
       "      <td>0.619620</td>\n",
       "      <td>0.641642</td>\n",
       "      <td>0.565566</td>\n",
       "      <td>0.000000</td>\n",
       "      <td>0.000000</td>\n",
       "      <td>0.000000</td>\n",
       "      <td>0.844344</td>\n",
       "      <td>R</td>\n",
       "    </tr>\n",
       "    <tr>\n",
       "      <th>1</th>\n",
       "      <td>0.514014</td>\n",
       "      <td>0.000000</td>\n",
       "      <td>0.000000</td>\n",
       "      <td>0.000000</td>\n",
       "      <td>0.000000</td>\n",
       "      <td>0.000000</td>\n",
       "      <td>0.000000</td>\n",
       "      <td>0.000000</td>\n",
       "      <td>R</td>\n",
       "    </tr>\n",
       "    <tr>\n",
       "      <th>2</th>\n",
       "      <td>0.000000</td>\n",
       "      <td>0.000000</td>\n",
       "      <td>0.000000</td>\n",
       "      <td>0.735736</td>\n",
       "      <td>0.000000</td>\n",
       "      <td>0.626627</td>\n",
       "      <td>0.965966</td>\n",
       "      <td>0.498999</td>\n",
       "      <td>R</td>\n",
       "    </tr>\n",
       "    <tr>\n",
       "      <th>3</th>\n",
       "      <td>0.452953</td>\n",
       "      <td>0.923924</td>\n",
       "      <td>0.834334</td>\n",
       "      <td>0.474975</td>\n",
       "      <td>0.509009</td>\n",
       "      <td>0.449950</td>\n",
       "      <td>0.000000</td>\n",
       "      <td>0.535536</td>\n",
       "      <td>R</td>\n",
       "    </tr>\n",
       "    <tr>\n",
       "      <th>4</th>\n",
       "      <td>0.000000</td>\n",
       "      <td>0.000000</td>\n",
       "      <td>0.000000</td>\n",
       "      <td>0.000000</td>\n",
       "      <td>0.389890</td>\n",
       "      <td>0.449950</td>\n",
       "      <td>0.757758</td>\n",
       "      <td>0.627628</td>\n",
       "      <td>R</td>\n",
       "    </tr>\n",
       "    <tr>\n",
       "      <th>...</th>\n",
       "      <td>...</td>\n",
       "      <td>...</td>\n",
       "      <td>...</td>\n",
       "      <td>...</td>\n",
       "      <td>...</td>\n",
       "      <td>...</td>\n",
       "      <td>...</td>\n",
       "      <td>...</td>\n",
       "      <td>...</td>\n",
       "    </tr>\n",
       "    <tr>\n",
       "      <th>37643</th>\n",
       "      <td>0.292793</td>\n",
       "      <td>0.696697</td>\n",
       "      <td>0.726226</td>\n",
       "      <td>1.000000</td>\n",
       "      <td>0.718719</td>\n",
       "      <td>0.000000</td>\n",
       "      <td>0.000000</td>\n",
       "      <td>0.000000</td>\n",
       "      <td>gear</td>\n",
       "    </tr>\n",
       "    <tr>\n",
       "      <th>37644</th>\n",
       "      <td>0.292793</td>\n",
       "      <td>0.696697</td>\n",
       "      <td>0.726226</td>\n",
       "      <td>1.000000</td>\n",
       "      <td>0.718719</td>\n",
       "      <td>0.000000</td>\n",
       "      <td>0.000000</td>\n",
       "      <td>0.000000</td>\n",
       "      <td>gear</td>\n",
       "    </tr>\n",
       "    <tr>\n",
       "      <th>37645</th>\n",
       "      <td>0.292793</td>\n",
       "      <td>0.696697</td>\n",
       "      <td>0.726226</td>\n",
       "      <td>1.000000</td>\n",
       "      <td>0.718719</td>\n",
       "      <td>0.000000</td>\n",
       "      <td>0.000000</td>\n",
       "      <td>0.000000</td>\n",
       "      <td>gear</td>\n",
       "    </tr>\n",
       "    <tr>\n",
       "      <th>37646</th>\n",
       "      <td>0.292793</td>\n",
       "      <td>0.696697</td>\n",
       "      <td>0.726226</td>\n",
       "      <td>1.000000</td>\n",
       "      <td>0.718719</td>\n",
       "      <td>0.000000</td>\n",
       "      <td>0.000000</td>\n",
       "      <td>0.000000</td>\n",
       "      <td>gear</td>\n",
       "    </tr>\n",
       "    <tr>\n",
       "      <th>37647</th>\n",
       "      <td>0.292793</td>\n",
       "      <td>0.696697</td>\n",
       "      <td>0.726226</td>\n",
       "      <td>1.000000</td>\n",
       "      <td>0.718719</td>\n",
       "      <td>0.000000</td>\n",
       "      <td>0.000000</td>\n",
       "      <td>0.000000</td>\n",
       "      <td>gear</td>\n",
       "    </tr>\n",
       "  </tbody>\n",
       "</table>\n",
       "<p>37648 rows × 9 columns</p>\n",
       "</div>"
      ],
      "text/plain": [
       "        DATA[0]   DATA[1]   DATA[2]   DATA[3]   DATA[4]   DATA[5]   DATA[6]  \\\n",
       "0      0.644645  0.619620  0.641642  0.565566  0.000000  0.000000  0.000000   \n",
       "1      0.514014  0.000000  0.000000  0.000000  0.000000  0.000000  0.000000   \n",
       "2      0.000000  0.000000  0.000000  0.735736  0.000000  0.626627  0.965966   \n",
       "3      0.452953  0.923924  0.834334  0.474975  0.509009  0.449950  0.000000   \n",
       "4      0.000000  0.000000  0.000000  0.000000  0.389890  0.449950  0.757758   \n",
       "...         ...       ...       ...       ...       ...       ...       ...   \n",
       "37643  0.292793  0.696697  0.726226  1.000000  0.718719  0.000000  0.000000   \n",
       "37644  0.292793  0.696697  0.726226  1.000000  0.718719  0.000000  0.000000   \n",
       "37645  0.292793  0.696697  0.726226  1.000000  0.718719  0.000000  0.000000   \n",
       "37646  0.292793  0.696697  0.726226  1.000000  0.718719  0.000000  0.000000   \n",
       "37647  0.292793  0.696697  0.726226  1.000000  0.718719  0.000000  0.000000   \n",
       "\n",
       "        DATA[7] Label  \n",
       "0      0.844344     R  \n",
       "1      0.000000     R  \n",
       "2      0.498999     R  \n",
       "3      0.535536     R  \n",
       "4      0.627628     R  \n",
       "...         ...   ...  \n",
       "37643  0.000000  gear  \n",
       "37644  0.000000  gear  \n",
       "37645  0.000000  gear  \n",
       "37646  0.000000  gear  \n",
       "37647  0.000000  gear  \n",
       "\n",
       "[37648 rows x 9 columns]"
      ]
     },
     "execution_count": 8,
     "metadata": {},
     "output_type": "execute_result"
    }
   ],
   "source": [
    "df"
   ]
  },
  {
   "cell_type": "code",
   "execution_count": 9,
   "metadata": {
    "id": "Kv1NmiKaVucW"
   },
   "outputs": [],
   "source": [
    "# Multiply the feature values by 255 to transform them into the scale of [0,255]\n",
    "df[numeric_features] = df[numeric_features].apply(\n",
    "    lambda x: (x*255))"
   ]
  },
  {
   "cell_type": "markdown",
   "metadata": {
    "id": "b6p8x6G8VucX"
   },
   "source": [
    "### Generate images for each class"
   ]
  },
  {
   "cell_type": "code",
   "execution_count": 10,
   "metadata": {
    "id": "ibx9JRVUVucX"
   },
   "outputs": [],
   "source": [
    "df0 = df[df['Label'] == 'R'].drop(['Label'], axis=1)\n",
    "df1 = df[df['Label'] == 'Fuzzy'].drop(['Label'], axis=1)\n",
    "df2 = df[df['Label'] == 'gear'].drop(['Label'], axis=1)"
   ]
  },
  {
   "cell_type": "code",
   "execution_count": 11,
   "metadata": {},
   "outputs": [
    {
     "data": {
      "text/html": [
       "<div>\n",
       "<style scoped>\n",
       "    .dataframe tbody tr th:only-of-type {\n",
       "        vertical-align: middle;\n",
       "    }\n",
       "\n",
       "    .dataframe tbody tr th {\n",
       "        vertical-align: top;\n",
       "    }\n",
       "\n",
       "    .dataframe thead th {\n",
       "        text-align: right;\n",
       "    }\n",
       "</style>\n",
       "<table border=\"1\" class=\"dataframe\">\n",
       "  <thead>\n",
       "    <tr style=\"text-align: right;\">\n",
       "      <th></th>\n",
       "      <th>DATA[0]</th>\n",
       "      <th>DATA[1]</th>\n",
       "      <th>DATA[2]</th>\n",
       "      <th>DATA[3]</th>\n",
       "      <th>DATA[4]</th>\n",
       "      <th>DATA[5]</th>\n",
       "      <th>DATA[6]</th>\n",
       "      <th>DATA[7]</th>\n",
       "    </tr>\n",
       "  </thead>\n",
       "  <tbody>\n",
       "    <tr>\n",
       "      <th>37498</th>\n",
       "      <td>74.662162</td>\n",
       "      <td>177.657658</td>\n",
       "      <td>185.187688</td>\n",
       "      <td>255.0</td>\n",
       "      <td>183.273273</td>\n",
       "      <td>0.0</td>\n",
       "      <td>0.0</td>\n",
       "      <td>0.0</td>\n",
       "    </tr>\n",
       "    <tr>\n",
       "      <th>37499</th>\n",
       "      <td>74.662162</td>\n",
       "      <td>177.657658</td>\n",
       "      <td>185.187688</td>\n",
       "      <td>255.0</td>\n",
       "      <td>183.273273</td>\n",
       "      <td>0.0</td>\n",
       "      <td>0.0</td>\n",
       "      <td>0.0</td>\n",
       "    </tr>\n",
       "    <tr>\n",
       "      <th>37500</th>\n",
       "      <td>74.662162</td>\n",
       "      <td>177.657658</td>\n",
       "      <td>185.187688</td>\n",
       "      <td>255.0</td>\n",
       "      <td>183.273273</td>\n",
       "      <td>0.0</td>\n",
       "      <td>0.0</td>\n",
       "      <td>0.0</td>\n",
       "    </tr>\n",
       "    <tr>\n",
       "      <th>37501</th>\n",
       "      <td>74.662162</td>\n",
       "      <td>177.657658</td>\n",
       "      <td>185.187688</td>\n",
       "      <td>255.0</td>\n",
       "      <td>183.273273</td>\n",
       "      <td>0.0</td>\n",
       "      <td>0.0</td>\n",
       "      <td>0.0</td>\n",
       "    </tr>\n",
       "    <tr>\n",
       "      <th>37502</th>\n",
       "      <td>74.662162</td>\n",
       "      <td>177.657658</td>\n",
       "      <td>185.187688</td>\n",
       "      <td>255.0</td>\n",
       "      <td>183.273273</td>\n",
       "      <td>0.0</td>\n",
       "      <td>0.0</td>\n",
       "      <td>0.0</td>\n",
       "    </tr>\n",
       "    <tr>\n",
       "      <th>...</th>\n",
       "      <td>...</td>\n",
       "      <td>...</td>\n",
       "      <td>...</td>\n",
       "      <td>...</td>\n",
       "      <td>...</td>\n",
       "      <td>...</td>\n",
       "      <td>...</td>\n",
       "      <td>...</td>\n",
       "    </tr>\n",
       "    <tr>\n",
       "      <th>37643</th>\n",
       "      <td>74.662162</td>\n",
       "      <td>177.657658</td>\n",
       "      <td>185.187688</td>\n",
       "      <td>255.0</td>\n",
       "      <td>183.273273</td>\n",
       "      <td>0.0</td>\n",
       "      <td>0.0</td>\n",
       "      <td>0.0</td>\n",
       "    </tr>\n",
       "    <tr>\n",
       "      <th>37644</th>\n",
       "      <td>74.662162</td>\n",
       "      <td>177.657658</td>\n",
       "      <td>185.187688</td>\n",
       "      <td>255.0</td>\n",
       "      <td>183.273273</td>\n",
       "      <td>0.0</td>\n",
       "      <td>0.0</td>\n",
       "      <td>0.0</td>\n",
       "    </tr>\n",
       "    <tr>\n",
       "      <th>37645</th>\n",
       "      <td>74.662162</td>\n",
       "      <td>177.657658</td>\n",
       "      <td>185.187688</td>\n",
       "      <td>255.0</td>\n",
       "      <td>183.273273</td>\n",
       "      <td>0.0</td>\n",
       "      <td>0.0</td>\n",
       "      <td>0.0</td>\n",
       "    </tr>\n",
       "    <tr>\n",
       "      <th>37646</th>\n",
       "      <td>74.662162</td>\n",
       "      <td>177.657658</td>\n",
       "      <td>185.187688</td>\n",
       "      <td>255.0</td>\n",
       "      <td>183.273273</td>\n",
       "      <td>0.0</td>\n",
       "      <td>0.0</td>\n",
       "      <td>0.0</td>\n",
       "    </tr>\n",
       "    <tr>\n",
       "      <th>37647</th>\n",
       "      <td>74.662162</td>\n",
       "      <td>177.657658</td>\n",
       "      <td>185.187688</td>\n",
       "      <td>255.0</td>\n",
       "      <td>183.273273</td>\n",
       "      <td>0.0</td>\n",
       "      <td>0.0</td>\n",
       "      <td>0.0</td>\n",
       "    </tr>\n",
       "  </tbody>\n",
       "</table>\n",
       "<p>150 rows × 8 columns</p>\n",
       "</div>"
      ],
      "text/plain": [
       "         DATA[0]     DATA[1]     DATA[2]  DATA[3]     DATA[4]  DATA[5]  \\\n",
       "37498  74.662162  177.657658  185.187688    255.0  183.273273      0.0   \n",
       "37499  74.662162  177.657658  185.187688    255.0  183.273273      0.0   \n",
       "37500  74.662162  177.657658  185.187688    255.0  183.273273      0.0   \n",
       "37501  74.662162  177.657658  185.187688    255.0  183.273273      0.0   \n",
       "37502  74.662162  177.657658  185.187688    255.0  183.273273      0.0   \n",
       "...          ...         ...         ...      ...         ...      ...   \n",
       "37643  74.662162  177.657658  185.187688    255.0  183.273273      0.0   \n",
       "37644  74.662162  177.657658  185.187688    255.0  183.273273      0.0   \n",
       "37645  74.662162  177.657658  185.187688    255.0  183.273273      0.0   \n",
       "37646  74.662162  177.657658  185.187688    255.0  183.273273      0.0   \n",
       "37647  74.662162  177.657658  185.187688    255.0  183.273273      0.0   \n",
       "\n",
       "       DATA[6]  DATA[7]  \n",
       "37498      0.0      0.0  \n",
       "37499      0.0      0.0  \n",
       "37500      0.0      0.0  \n",
       "37501      0.0      0.0  \n",
       "37502      0.0      0.0  \n",
       "...        ...      ...  \n",
       "37643      0.0      0.0  \n",
       "37644      0.0      0.0  \n",
       "37645      0.0      0.0  \n",
       "37646      0.0      0.0  \n",
       "37647      0.0      0.0  \n",
       "\n",
       "[150 rows x 8 columns]"
      ]
     },
     "execution_count": 11,
     "metadata": {},
     "output_type": "execute_result"
    }
   ],
   "source": [
    "df2"
   ]
  },
  {
   "cell_type": "code",
   "execution_count": 12,
   "metadata": {
    "colab": {
     "base_uri": "https://localhost:8080/",
     "height": 356
    },
    "id": "2WP1A3WDVucX",
    "outputId": "ead0f0e8-94d4-46ae-d54a-4fcdb050331b"
   },
   "outputs": [],
   "source": [
    "# Generate 9*9 color images for class 0 (Normal)\n",
    "# Change the numbers 9 to the number of features n in your dataset if you use a different dataset, reshape(n,n,3)\n",
    "count=0\n",
    "ims = []\n",
    "\n",
    "image_path = \"target/train/0/\"\n",
    "os.makedirs(image_path)\n",
    "\n",
    "for i in range(0, len(df0)):  \n",
    "    count=count+1\n",
    "    if count<=24: \n",
    "        im=df0.iloc[i].values\n",
    "        ims=np.append(ims,im)\n",
    "    else:\n",
    "        ims=np.array(ims).reshape(8,8,3)\n",
    "        array = np.array(ims, dtype=np.uint8)\n",
    "        new_image = Image.fromarray(array)\n",
    "        new_image.save(image_path+str(i)+'.png')\n",
    "        count=0\n",
    "        ims = []"
   ]
  },
  {
   "cell_type": "code",
   "execution_count": 13,
   "metadata": {
    "id": "Z6yzxnCRVucX"
   },
   "outputs": [],
   "source": [
    "# Generate 9*9 color images for class 1 (Fuzzy spoofing)\n",
    "count=0\n",
    "ims = []\n",
    "\n",
    "image_path = \"target/train/1/\"\n",
    "os.makedirs(image_path)\n",
    "\n",
    "for i in range(0, len(df1)):  \n",
    "    count=count+1\n",
    "    if count<=24: \n",
    "        im=df1.iloc[i].values\n",
    "        ims=np.append(ims,im)\n",
    "    else:\n",
    "        ims=np.array(ims).reshape(8,8,3)\n",
    "        array = np.array(ims, dtype=np.uint8)\n",
    "        new_image = Image.fromarray(array)\n",
    "        new_image.save(image_path+str(i)+'.png')\n",
    "        count=0\n",
    "        ims = []"
   ]
  },
  {
   "cell_type": "code",
   "execution_count": 14,
   "metadata": {},
   "outputs": [],
   "source": [
    "# Generate 9*9 color images for class 1 (Fuzzy spoofing)\n",
    "count=0\n",
    "ims = []\n",
    "\n",
    "image_path = \"cluttered/\"\n",
    "os.makedirs(image_path)\n",
    "\n",
    "for i in range(0, len(df2)):  \n",
    "    count=count+1\n",
    "    if count<=24: \n",
    "        im=df2.iloc[i].values\n",
    "        ims=np.append(ims,im)\n",
    "    else:\n",
    "        ims=np.array(ims).reshape(8,8,3)\n",
    "        array = np.array(ims, dtype=np.uint8)\n",
    "        new_image = Image.fromarray(array)\n",
    "        new_image.save(image_path+str(i)+'cluttered.png')\n",
    "        count=0\n",
    "        ims = []"
   ]
  },
  {
   "cell_type": "markdown",
   "metadata": {
    "id": "13I8B7PzVucY"
   },
   "source": [
    "### Display samples for each category"
   ]
  },
  {
   "cell_type": "code",
   "execution_count": 15,
   "metadata": {
    "id": "IGmQGvMyVucZ"
   },
   "outputs": [
    {
     "data": {
      "image/png": "[encoded data removed]",
      "text/plain": [
       "<Figure size 720x720 with 2 Axes>"
      ]
     },
     "metadata": {
      "needs_background": "light"
     },
     "output_type": "display_data"
    }
   ],
   "source": [
    "# Read the images for each category, the file name may vary (27.png, 83.png...)\n",
    "img1 = Image.open('./target/train/0/24.png')\n",
    "img2 = Image.open('./target/train/1/24.png')\n",
    "\n",
    "plt.figure(figsize=(10, 10)) \n",
    "plt.subplot(1,5,1)\n",
    "plt.imshow(img1)\n",
    "plt.title(\"Normal Spoofing\")\n",
    "plt.subplot(1,5,2)\n",
    "plt.imshow(img2)\n",
    "plt.title(\"Fuzzy Spoofing\")\n",
    "\n",
    "plt.show()  # display it"
   ]
  },
  {
   "cell_type": "markdown",
   "metadata": {
    "id": "QXAfI4FFVucZ"
   },
   "source": [
    "## Split the training and test set "
   ]
  },
  {
   "cell_type": "code",
   "execution_count": 16,
   "metadata": {
    "colab": {
     "base_uri": "https://localhost:8080/"
    },
    "id": "oiIIn1ZOVucZ",
    "outputId": "f6ff6889-c645-49f8-ccbf-2142f69a99ef"
   },
   "outputs": [
    {
     "name": "stdout",
     "output_type": "stream",
     "text": [
      "1499\n"
     ]
    }
   ],
   "source": [
    "# Create folders to store images\n",
    "Train_Dir='./target/train/'\n",
    "Val_Dir='./target/test/'\n",
    "allimgs=[]\n",
    "for subdir in os.listdir(Train_Dir):\n",
    "    for filename in os.listdir(os.path.join(Train_Dir,subdir)):\n",
    "        filepath=os.path.join(Train_Dir,subdir,filename)\n",
    "        allimgs.append(filepath)\n",
    "print(len(allimgs)) # Print the total number of images"
   ]
  },
  {
   "cell_type": "code",
   "execution_count": 17,
   "metadata": {
    "id": "hQRNhRXUVucZ"
   },
   "outputs": [],
   "source": [
    "#split a test set from the dataset, train/test size = 80%/20%\n",
    "Numbers=len(allimgs)//5 \t#size of test set (20%)\n",
    "\n",
    "def mymovefile(srcfile,dstfile):\n",
    "    if not os.path.isfile(srcfile):\n",
    "#         print (\"%s not exist!\"%(srcfile))\n",
    "        pass\n",
    "    else:\n",
    "        fpath,fname=os.path.split(dstfile)    \n",
    "        if not os.path.exists(fpath):\n",
    "            os.makedirs(fpath)               \n",
    "        shutil.move(srcfile,dstfile)          \n",
    "        #print (\"move %s -> %s\"%(srcfile,dstfile))"
   ]
  },
  {
   "cell_type": "code",
   "execution_count": 18,
   "metadata": {
    "colab": {
     "base_uri": "https://localhost:8080/"
    },
    "id": "5Ej5Uk5IVuca",
    "outputId": "c4a5c99d-8f12-4bbe-d6dc-38e678310add",
    "scrolled": true
   },
   "outputs": [
    {
     "data": {
      "text/plain": [
       "299"
      ]
     },
     "execution_count": 18,
     "metadata": {},
     "output_type": "execute_result"
    }
   ],
   "source": [
    "# The size of test set\n",
    "Numbers"
   ]
  },
  {
   "cell_type": "code",
   "execution_count": 19,
   "metadata": {
    "colab": {
     "base_uri": "https://localhost:8080/"
    },
    "id": "zw2vQ_dYVuca",
    "outputId": "3968b5b8-01a3-4460-aa48-800b8798d6d5"
   },
   "outputs": [
    {
     "name": "stdout",
     "output_type": "stream",
     "text": [
      "Finish creating test set\n"
     ]
    }
   ],
   "source": [
    "# Create the test set\n",
    "val_imgs=random.sample(allimgs,Numbers)\n",
    "for img in val_imgs:\n",
    "    dest_path=img.replace(Train_Dir,Val_Dir)\n",
    "    mymovefile(img,dest_path)\n",
    "print('Finish creating test set')"
   ]
  },
  {
   "cell_type": "code",
   "execution_count": null,
   "metadata": {},
   "outputs": [],
   "source": []
  },
  {
   "cell_type": "code",
   "execution_count": 20,
   "metadata": {
    "id": "C5GGJtcGVuca"
   },
   "outputs": [],
   "source": [
    "#resize the images 224*224 for better CNN training\n",
    "def get_224(folder,dstdir):\n",
    "    imgfilepaths=[]\n",
    "    for root,dirs,imgs in os.walk(folder):\n",
    "        for thisimg in imgs:\n",
    "            thisimg_path=os.path.join(root,thisimg)\n",
    "            imgfilepaths.append(thisimg_path)\n",
    "    for thisimg_path in imgfilepaths:\n",
    "        dir_name,filename=os.path.split(thisimg_path)\n",
    "        dir_name=dir_name.replace(folder,dstdir)\n",
    "        new_file_path=os.path.join(dir_name,filename)\n",
    "        if not os.path.exists(dir_name):\n",
    "            os.makedirs(dir_name)\n",
    "        img=cv2.imread(thisimg_path)\n",
    "        img=cv2.resize(img,(224,224))\n",
    "        cv2.imwrite(new_file_path,img)\n",
    "    print('Finish resizing'.format(folder=folder))"
   ]
  },
  {
   "cell_type": "code",
   "execution_count": 21,
   "metadata": {
    "colab": {
     "base_uri": "https://localhost:8080/"
    },
    "id": "YkwFfjpyVuca",
    "outputId": "0b72712c-4ee6-4919-ae7e-f5e3c405a349"
   },
   "outputs": [
    {
     "name": "stdout",
     "output_type": "stream",
     "text": [
      "Finish resizing\n"
     ]
    }
   ],
   "source": [
    "DATA_DIR_224='./target/train_224/'\n",
    "get_224(folder='./target/train/',dstdir=DATA_DIR_224)"
   ]
  },
  {
   "cell_type": "code",
   "execution_count": 22,
   "metadata": {
    "colab": {
     "base_uri": "https://localhost:8080/"
    },
    "id": "yzm5nTGDVuca",
    "outputId": "9a5bd276-69c4-4a19-ef09-bffb43105522"
   },
   "outputs": [
    {
     "name": "stdout",
     "output_type": "stream",
     "text": [
      "Finish resizing\n"
     ]
    }
   ],
   "source": [
    "DATA_DIR2_224='./target/test_224/'\n",
    "get_224(folder='./target/test/',dstdir=DATA_DIR2_224)"
   ]
  },
  {
   "cell_type": "code",
   "execution_count": 23,
   "metadata": {},
   "outputs": [
    {
     "name": "stdout",
     "output_type": "stream",
     "text": [
      "Finish resizing\n"
     ]
    }
   ],
   "source": [
    "DATA_DIR2_224='./cluttered/cluttered_224/'\n",
    "get_224(folder='./cluttered/',dstdir=DATA_DIR2_224)"
   ]
  },
  {
   "cell_type": "code",
   "execution_count": null,
   "metadata": {},
   "outputs": [],
   "source": []
  },
  {
   "cell_type": "code",
   "execution_count": null,
   "metadata": {},
   "outputs": [],
   "source": []
  }
 ],
 "metadata": {
  "accelerator": "GPU",
  "anaconda-cloud": {},
  "colab": {
   "provenance": []
  },
  "gpuClass": "standard",
  "kernelspec": {
   "display_name": "Python 3 (ipykernel)",
   "language": "python",
   "name": "python3"
  },
  "language_info": {
   "codemirror_mode": {
    "name": "ipython",
    "version": 3
   },
   "file_extension": ".py",
   "mimetype": "text/x-python",
   "name": "python",
   "nbconvert_exporter": "python",
   "pygments_lexer": "ipython3",
   "version": "3.9.12"
  }
 },
 "nbformat": 4,
 "nbformat_minor": 1
}
